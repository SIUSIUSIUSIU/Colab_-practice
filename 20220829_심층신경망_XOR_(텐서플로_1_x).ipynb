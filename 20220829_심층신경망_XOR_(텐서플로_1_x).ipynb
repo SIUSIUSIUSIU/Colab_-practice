{
  "nbformat": 4,
  "nbformat_minor": 0,
  "metadata": {
    "colab": {
      "provenance": [],
      "authorship_tag": "ABX9TyPqKOhzYu+hEk7kMZMMphIi",
      "include_colab_link": true
    },
    "kernelspec": {
      "name": "python3",
      "display_name": "Python 3"
    },
    "language_info": {
      "name": "python"
    }
  },
  "cells": [
    {
      "cell_type": "markdown",
      "metadata": {
        "id": "view-in-github",
        "colab_type": "text"
      },
      "source": [
        "<a href=\"https://colab.research.google.com/github/SIUSIUSIUSIU/Colab_-practice/blob/main/20220829_%EC%8B%AC%EC%B8%B5%EC%8B%A0%EA%B2%BD%EB%A7%9D_XOR_(%ED%85%90%EC%84%9C%ED%94%8C%EB%A1%9C_1_x).ipynb\" target=\"_parent\"><img src=\"https://colab.research.google.com/assets/colab-badge.svg\" alt=\"Open In Colab\"/></a>"
      ]
    },
    {
      "cell_type": "code",
      "execution_count": null,
      "metadata": {
        "colab": {
          "base_uri": "https://localhost:8080/"
        },
        "id": "owlYNoY2jF6c",
        "outputId": "35520f1b-7772-4617-f677-5b8761bb6387"
      },
      "outputs": [
        {
          "output_type": "stream",
          "name": "stdout",
          "text": [
            "Looking in indexes: https://pypi.org/simple, https://us-python.pkg.dev/colab-wheels/public/simple/\n",
            "Requirement already satisfied: tensorflow==1.15.2 in /usr/local/lib/python3.7/dist-packages (1.15.2)\n",
            "Requirement already satisfied: astor>=0.6.0 in /usr/local/lib/python3.7/dist-packages (from tensorflow==1.15.2) (0.8.1)\n",
            "Requirement already satisfied: termcolor>=1.1.0 in /usr/local/lib/python3.7/dist-packages (from tensorflow==1.15.2) (1.1.0)\n",
            "Requirement already satisfied: absl-py>=0.7.0 in /usr/local/lib/python3.7/dist-packages (from tensorflow==1.15.2) (1.2.0)\n",
            "Requirement already satisfied: numpy<2.0,>=1.16.0 in /usr/local/lib/python3.7/dist-packages (from tensorflow==1.15.2) (1.21.6)\n",
            "Requirement already satisfied: tensorflow-estimator==1.15.1 in /usr/local/lib/python3.7/dist-packages (from tensorflow==1.15.2) (1.15.1)\n",
            "Requirement already satisfied: keras-applications>=1.0.8 in /usr/local/lib/python3.7/dist-packages (from tensorflow==1.15.2) (1.0.8)\n",
            "Requirement already satisfied: protobuf>=3.6.1 in /usr/local/lib/python3.7/dist-packages (from tensorflow==1.15.2) (3.17.3)\n",
            "Requirement already satisfied: keras-preprocessing>=1.0.5 in /usr/local/lib/python3.7/dist-packages (from tensorflow==1.15.2) (1.1.2)\n",
            "Requirement already satisfied: google-pasta>=0.1.6 in /usr/local/lib/python3.7/dist-packages (from tensorflow==1.15.2) (0.2.0)\n",
            "Requirement already satisfied: wrapt>=1.11.1 in /usr/local/lib/python3.7/dist-packages (from tensorflow==1.15.2) (1.14.1)\n",
            "Requirement already satisfied: six>=1.10.0 in /usr/local/lib/python3.7/dist-packages (from tensorflow==1.15.2) (1.15.0)\n",
            "Requirement already satisfied: grpcio>=1.8.6 in /usr/local/lib/python3.7/dist-packages (from tensorflow==1.15.2) (1.47.0)\n",
            "Requirement already satisfied: wheel>=0.26 in /usr/local/lib/python3.7/dist-packages (from tensorflow==1.15.2) (0.37.1)\n",
            "Requirement already satisfied: opt-einsum>=2.3.2 in /usr/local/lib/python3.7/dist-packages (from tensorflow==1.15.2) (3.3.0)\n",
            "Requirement already satisfied: tensorboard<1.16.0,>=1.15.0 in /usr/local/lib/python3.7/dist-packages (from tensorflow==1.15.2) (1.15.0)\n",
            "Requirement already satisfied: gast==0.2.2 in /usr/local/lib/python3.7/dist-packages (from tensorflow==1.15.2) (0.2.2)\n",
            "Requirement already satisfied: h5py in /usr/local/lib/python3.7/dist-packages (from keras-applications>=1.0.8->tensorflow==1.15.2) (3.1.0)\n",
            "Requirement already satisfied: werkzeug>=0.11.15 in /usr/local/lib/python3.7/dist-packages (from tensorboard<1.16.0,>=1.15.0->tensorflow==1.15.2) (1.0.1)\n",
            "Requirement already satisfied: markdown>=2.6.8 in /usr/local/lib/python3.7/dist-packages (from tensorboard<1.16.0,>=1.15.0->tensorflow==1.15.2) (3.4.1)\n",
            "Requirement already satisfied: setuptools>=41.0.0 in /usr/local/lib/python3.7/dist-packages (from tensorboard<1.16.0,>=1.15.0->tensorflow==1.15.2) (57.4.0)\n",
            "Requirement already satisfied: importlib-metadata>=4.4 in /usr/local/lib/python3.7/dist-packages (from markdown>=2.6.8->tensorboard<1.16.0,>=1.15.0->tensorflow==1.15.2) (4.12.0)\n",
            "Requirement already satisfied: zipp>=0.5 in /usr/local/lib/python3.7/dist-packages (from importlib-metadata>=4.4->markdown>=2.6.8->tensorboard<1.16.0,>=1.15.0->tensorflow==1.15.2) (3.8.1)\n",
            "Requirement already satisfied: typing-extensions>=3.6.4 in /usr/local/lib/python3.7/dist-packages (from importlib-metadata>=4.4->markdown>=2.6.8->tensorboard<1.16.0,>=1.15.0->tensorflow==1.15.2) (4.1.1)\n",
            "Requirement already satisfied: cached-property in /usr/local/lib/python3.7/dist-packages (from h5py->keras-applications>=1.0.8->tensorflow==1.15.2) (1.5.2)\n"
          ]
        }
      ],
      "source": [
        "!pip install tensorflow==1.15.2"
      ]
    },
    {
      "cell_type": "code",
      "source": [
        "import tensorflow as tf\n",
        "import numpy as np\n",
        "tf.enable_eager_execution()"
      ],
      "metadata": {
        "id": "v1C-zUdHjxJZ"
      },
      "execution_count": null,
      "outputs": []
    },
    {
      "cell_type": "code",
      "source": [
        "X= np.array([\n",
        "    [0,0],\n",
        "    [0,1],\n",
        "    [1,0],\n",
        "    [1,1]\n",
        "], dtype=\"float32\")\n",
        "\n",
        "y= np.array([\n",
        "    [0],\n",
        "    [1],\n",
        "    [1],\n",
        "    [0]\n",
        "], dtype=\"float32\")"
      ],
      "metadata": {
        "id": "yZzsqokOj_xK"
      },
      "execution_count": null,
      "outputs": []
    },
    {
      "cell_type": "code",
      "source": [
        "X"
      ],
      "metadata": {
        "colab": {
          "base_uri": "https://localhost:8080/"
        },
        "id": "yDnbqsMJm9z0",
        "outputId": "1d9a9695-0aef-4044-ad95-ff4af4100ebb"
      },
      "execution_count": null,
      "outputs": [
        {
          "output_type": "execute_result",
          "data": {
            "text/plain": [
              "array([[0., 0.],\n",
              "       [0., 1.],\n",
              "       [1., 0.],\n",
              "       [1., 1.]], dtype=float32)"
            ]
          },
          "metadata": {},
          "execution_count": 4
        }
      ]
    },
    {
      "cell_type": "code",
      "source": [
        "y"
      ],
      "metadata": {
        "colab": {
          "base_uri": "https://localhost:8080/"
        },
        "id": "AeEYn3pInAAI",
        "outputId": "323e9056-b20f-4253-815c-adb43e8010e3"
      },
      "execution_count": null,
      "outputs": [
        {
          "output_type": "execute_result",
          "data": {
            "text/plain": [
              "array([[0.],\n",
              "       [1.],\n",
              "       [1.],\n",
              "       [0.]], dtype=float32)"
            ]
          },
          "metadata": {},
          "execution_count": 5
        }
      ]
    },
    {
      "cell_type": "code",
      "source": [
        "w0 = tf.Variable([\n",
        "    [1,2],\n",
        "    [3,4]\n",
        "], dtype=\"float32\")"
      ],
      "metadata": {
        "id": "IxNv56GhkHVK"
      },
      "execution_count": null,
      "outputs": []
    },
    {
      "cell_type": "code",
      "source": [
        "w0"
      ],
      "metadata": {
        "colab": {
          "base_uri": "https://localhost:8080/"
        },
        "id": "Wp7sPwcInGIy",
        "outputId": "f86bc18e-a133-4811-88dc-fbe97f134971"
      },
      "execution_count": null,
      "outputs": [
        {
          "output_type": "execute_result",
          "data": {
            "text/plain": [
              "<tf.Variable 'Variable:0' shape=(2, 2) dtype=float32, numpy=\n",
              "array([[1., 2.],\n",
              "       [3., 4.]], dtype=float32)>"
            ]
          },
          "metadata": {},
          "execution_count": 7
        }
      ]
    },
    {
      "cell_type": "code",
      "source": [
        "b0 = tf.Variable([[0,0]], dtype=\"float32\")"
      ],
      "metadata": {
        "id": "uUccItoukyzL"
      },
      "execution_count": null,
      "outputs": []
    },
    {
      "cell_type": "code",
      "source": [
        "b0"
      ],
      "metadata": {
        "colab": {
          "base_uri": "https://localhost:8080/"
        },
        "id": "YzsXmbXXnIRF",
        "outputId": "7438c73f-8fd5-4f0d-f125-6b0c5fbede6c"
      },
      "execution_count": null,
      "outputs": [
        {
          "output_type": "execute_result",
          "data": {
            "text/plain": [
              "<tf.Variable 'Variable:0' shape=(1, 2) dtype=float32, numpy=array([[0., 0.]], dtype=float32)>"
            ]
          },
          "metadata": {},
          "execution_count": 9
        }
      ]
    },
    {
      "cell_type": "code",
      "source": [
        "tf.matmul(X,w0)+b0"
      ],
      "metadata": {
        "colab": {
          "base_uri": "https://localhost:8080/"
        },
        "id": "-wl9DK1ZlCVI",
        "outputId": "78855d21-4ab1-44a5-96f8-27aa47096560"
      },
      "execution_count": null,
      "outputs": [
        {
          "output_type": "execute_result",
          "data": {
            "text/plain": [
              "<tf.Tensor: id=23, shape=(4, 2), dtype=float32, numpy=\n",
              "array([[0., 0.],\n",
              "       [3., 4.],\n",
              "       [1., 2.],\n",
              "       [4., 6.]], dtype=float32)>"
            ]
          },
          "metadata": {},
          "execution_count": 10
        }
      ]
    },
    {
      "cell_type": "code",
      "source": [
        "hypothesis0 = tf.sigmoid(tf.matmul(X,w0)+b0)\n",
        "hypothesis0"
      ],
      "metadata": {
        "colab": {
          "base_uri": "https://localhost:8080/"
        },
        "id": "tmPtzKTZlKPb",
        "outputId": "426c029e-6d17-4ff8-93fd-89f82c6fd892"
      },
      "execution_count": null,
      "outputs": [
        {
          "output_type": "execute_result",
          "data": {
            "text/plain": [
              "<tf.Tensor: id=29, shape=(4, 2), dtype=float32, numpy=\n",
              "array([[0.5       , 0.5       ],\n",
              "       [0.95257413, 0.98201376],\n",
              "       [0.7310586 , 0.8807971 ],\n",
              "       [0.98201376, 0.99752736]], dtype=float32)>"
            ]
          },
          "metadata": {},
          "execution_count": 11
        }
      ]
    },
    {
      "cell_type": "code",
      "source": [
        "w1 = tf.Variable([\n",
        "    [5],\n",
        "    [6]\n",
        "], dtype=\"float32\")"
      ],
      "metadata": {
        "id": "g3W5QoyIlsro"
      },
      "execution_count": null,
      "outputs": []
    },
    {
      "cell_type": "code",
      "source": [
        "w1"
      ],
      "metadata": {
        "colab": {
          "base_uri": "https://localhost:8080/"
        },
        "id": "A7dljR-MnPRS",
        "outputId": "cc5cc239-6087-4dbc-dd06-48e37f8ea4f6"
      },
      "execution_count": null,
      "outputs": [
        {
          "output_type": "execute_result",
          "data": {
            "text/plain": [
              "<tf.Variable 'Variable:0' shape=(2, 1) dtype=float32, numpy=\n",
              "array([[5.],\n",
              "       [6.]], dtype=float32)>"
            ]
          },
          "metadata": {},
          "execution_count": 13
        }
      ]
    },
    {
      "cell_type": "code",
      "source": [
        "b1 = tf.Variable([[0]], dtype=\"float32\")"
      ],
      "metadata": {
        "id": "wt7lex8Kl6PQ"
      },
      "execution_count": null,
      "outputs": []
    },
    {
      "cell_type": "code",
      "source": [
        "tf.matmul(hypothesis0,w1)+b1"
      ],
      "metadata": {
        "colab": {
          "base_uri": "https://localhost:8080/"
        },
        "id": "6ObwzZRdl_B-",
        "outputId": "2aff9a90-44dc-4cd2-e0a8-8544c04ec5c4"
      },
      "execution_count": null,
      "outputs": [
        {
          "output_type": "execute_result",
          "data": {
            "text/plain": [
              "<tf.Tensor: id=49, shape=(4, 1), dtype=float32, numpy=\n",
              "array([[ 5.5     ],\n",
              "       [10.654953],\n",
              "       [ 8.940075],\n",
              "       [10.895233]], dtype=float32)>"
            ]
          },
          "metadata": {},
          "execution_count": 15
        }
      ]
    },
    {
      "cell_type": "code",
      "source": [
        "hypothesis1 = tf.sigmoid(tf.matmul(hypothesis0,w1)+b1)\n",
        "hypothesis1"
      ],
      "metadata": {
        "colab": {
          "base_uri": "https://localhost:8080/"
        },
        "id": "paQ9onCkmLWJ",
        "outputId": "67e5a31c-9548-4d6b-ab8a-10c8305d2dcd"
      },
      "execution_count": null,
      "outputs": [
        {
          "output_type": "execute_result",
          "data": {
            "text/plain": [
              "<tf.Tensor: id=54, shape=(4, 1), dtype=float32, numpy=\n",
              "array([[0.9959299],\n",
              "       [0.9999764],\n",
              "       [0.999869 ],\n",
              "       [0.9999814]], dtype=float32)>"
            ]
          },
          "metadata": {},
          "execution_count": 16
        }
      ]
    },
    {
      "cell_type": "code",
      "source": [
        "optimizer = tf.train.AdamOptimizer(0.1)"
      ],
      "metadata": {
        "id": "neRe-3nAsMG3"
      },
      "execution_count": null,
      "outputs": []
    },
    {
      "cell_type": "code",
      "source": [
        "for step in range(5000):\n",
        "  with tf.GradientTape() as tape:\n",
        "    hypothesis0 = tf.sigmoid(tf.matmul(X,w0)+b0)\n",
        "    hypothesis1 = tf.sigmoid(tf.matmul(hypothesis0,w1)+b1)\n",
        "    cost = -tf.reduce_mean(y * tf.log(hypothesis1)+(1-y)* tf.log(1-hypothesis1))\n",
        "    grads = tape.gradient(cost,[w0,w1,b0,b1])\n",
        "    optimizer.apply_gradients(grads_and_vars=zip(grads,[w0,w1,b0,b1]))\n",
        "\n",
        "    if step % 100 == 0:\n",
        "      print(\"cost : {},w0 : {},w1 : {}\".format(cost,w0,w1))\n",
        "      print(\"==\"*100)"
      ],
      "metadata": {
        "colab": {
          "base_uri": "https://localhost:8080/"
        },
        "id": "hF3JiOnOn4H4",
        "outputId": "8ddfc62b-5a0d-4c04-d13a-81d62c54a5cf"
      },
      "execution_count": null,
      "outputs": [
        {
          "output_type": "stream",
          "name": "stdout",
          "text": [
            "cost : 4.0991926193237305,w0 : <tf.Variable 'Variable:0' shape=(2, 2) dtype=float32, numpy=\n",
            "array([[0.9000014, 1.9000086],\n",
            "       [2.9000015, 3.9000084]], dtype=float32)>,w1 : <tf.Variable 'Variable:0' shape=(2, 1) dtype=float32, numpy=\n",
            "array([[4.9],\n",
            "       [5.9]], dtype=float32)>\n",
            "========================================================================================================================================================================================================\n",
            "cost : 0.5574864149093628,w0 : <tf.Variable 'Variable:0' shape=(2, 2) dtype=float32, numpy=\n",
            "array([[-2.0565376, -4.4126096],\n",
            "       [ 1.2810546,  3.060032 ]], dtype=float32)>,w1 : <tf.Variable 'Variable:0' shape=(2, 1) dtype=float32, numpy=\n",
            "array([[2.685531 ],\n",
            "       [3.8502126]], dtype=float32)>\n",
            "========================================================================================================================================================================================================\n",
            "cost : 0.5103297233581543,w0 : <tf.Variable 'Variable:0' shape=(2, 2) dtype=float32, numpy=\n",
            "array([[-2.5863264, -6.2746296],\n",
            "       [ 1.5904136,  4.880547 ]], dtype=float32)>,w1 : <tf.Variable 'Variable:0' shape=(2, 1) dtype=float32, numpy=\n",
            "array([[2.3543894],\n",
            "       [4.411695 ]], dtype=float32)>\n",
            "========================================================================================================================================================================================================\n",
            "cost : 0.49529534578323364,w0 : <tf.Variable 'Variable:0' shape=(2, 2) dtype=float32, numpy=\n",
            "array([[-2.8877606, -7.3770666],\n",
            "       [ 1.6697836,  5.8986964]], dtype=float32)>,w1 : <tf.Variable 'Variable:0' shape=(2, 1) dtype=float32, numpy=\n",
            "array([[2.0767353],\n",
            "       [4.9937453]], dtype=float32)>\n",
            "========================================================================================================================================================================================================\n",
            "cost : 0.4886106550693512,w0 : <tf.Variable 'Variable:0' shape=(2, 2) dtype=float32, numpy=\n",
            "array([[-3.0569217, -8.128942 ],\n",
            "       [ 1.6668214,  6.5931687]], dtype=float32)>,w1 : <tf.Variable 'Variable:0' shape=(2, 1) dtype=float32, numpy=\n",
            "array([[1.8414863],\n",
            "       [5.4756556]], dtype=float32)>\n",
            "========================================================================================================================================================================================================\n",
            "cost : 0.485080361366272,w0 : <tf.Variable 'Variable:0' shape=(2, 2) dtype=float32, numpy=\n",
            "array([[-3.1607134, -8.69185  ],\n",
            "       [ 1.6366959,  7.1160617]], dtype=float32)>,w1 : <tf.Variable 'Variable:0' shape=(2, 1) dtype=float32, numpy=\n",
            "array([[1.6368607],\n",
            "       [5.869411 ]], dtype=float32)>\n",
            "========================================================================================================================================================================================================\n",
            "cost : 0.4829934239387512,w0 : <tf.Variable 'Variable:0' shape=(2, 2) dtype=float32, numpy=\n",
            "array([[-3.2296515, -9.139437 ],\n",
            "       [ 1.6007802,  7.5347667]], dtype=float32)>,w1 : <tf.Variable 'Variable:0' shape=(2, 1) dtype=float32, numpy=\n",
            "array([[1.4542723],\n",
            "       [6.197596 ]], dtype=float32)>\n",
            "========================================================================================================================================================================================================\n",
            "cost : 0.4816552996635437,w0 : <tf.Variable 'Variable:0' shape=(2, 2) dtype=float32, numpy=\n",
            "array([[-3.2783184, -9.510502 ],\n",
            "       [ 1.5663016,  7.8843427]], dtype=float32)>,w1 : <tf.Variable 'Variable:0' shape=(2, 1) dtype=float32, numpy=\n",
            "array([[1.2874041],\n",
            "       [6.4776435]], dtype=float32)>\n",
            "========================================================================================================================================================================================================\n",
            "cost : 0.48074260354042053,w0 : <tf.Variable 'Variable:0' shape=(2, 2) dtype=float32, numpy=\n",
            "array([[-3.3142202, -9.827593 ],\n",
            "       [ 1.5354048,  8.185023 ]], dtype=float32)>,w1 : <tf.Variable 'Variable:0' shape=(2, 1) dtype=float32, numpy=\n",
            "array([[1.1316686],\n",
            "       [6.7216654]], dtype=float32)>\n",
            "========================================================================================================================================================================================================\n",
            "cost : 0.4800896942615509,w0 : <tf.Variable 'Variable:0' shape=(2, 2) dtype=float32, numpy=\n",
            "array([[ -3.3415203, -10.104817 ],\n",
            "       [  1.5085075,   8.449406 ]], dtype=float32)>,w1 : <tf.Variable 'Variable:0' shape=(2, 1) dtype=float32, numpy=\n",
            "array([[0.98367167],\n",
            "       [6.9380345 ]], dtype=float32)>\n",
            "========================================================================================================================================================================================================\n",
            "cost : 0.47960448265075684,w0 : <tf.Variable 'Variable:0' shape=(2, 2) dtype=float32, numpy=\n",
            "array([[ -3.362668 , -10.351543 ],\n",
            "       [  1.4854845,   8.685835 ]], dtype=float32)>,w1 : <tf.Variable 'Variable:0' shape=(2, 1) dtype=float32, numpy=\n",
            "array([[0.8407971],\n",
            "       [7.132652 ]], dtype=float32)>\n",
            "========================================================================================================================================================================================================\n",
            "cost : 0.47923198342323303,w0 : <tf.Variable 'Variable:0' shape=(2, 2) dtype=float32, numpy=\n",
            "array([[ -3.37917  , -10.574261 ],\n",
            "       [  1.4660882,   8.90014  ]], dtype=float32)>,w1 : <tf.Variable 'Variable:0' shape=(2, 1) dtype=float32, numpy=\n",
            "array([[0.700912],\n",
            "       [7.309788]], dtype=float32)>\n",
            "========================================================================================================================================================================================================\n",
            "cost : 0.4789382219314575,w0 : <tf.Variable 'Variable:0' shape=(2, 2) dtype=float32, numpy=\n",
            "array([[ -3.3919735, -10.777558 ],\n",
            "       [  1.450104 ,   9.096495 ]], dtype=float32)>,w1 : <tf.Variable 'Variable:0' shape=(2, 1) dtype=float32, numpy=\n",
            "array([[0.5621564],\n",
            "       [7.4726114]], dtype=float32)>\n",
            "========================================================================================================================================================================================================\n",
            "cost : 0.4787004590034485,w0 : <tf.Variable 'Variable:0' shape=(2, 2) dtype=float32, numpy=\n",
            "array([[ -3.4016643, -10.964923 ],\n",
            "       [  1.4374096,   9.278023 ]], dtype=float32)>,w1 : <tf.Variable 'Variable:0' shape=(2, 1) dtype=float32, numpy=\n",
            "array([[0.42277974],\n",
            "       [7.623531  ]], dtype=float32)>\n",
            "========================================================================================================================================================================================================\n",
            "cost : 0.47850337624549866,w0 : <tf.Variable 'Variable:0' shape=(2, 2) dtype=float32, numpy=\n",
            "array([[ -3.40857  , -11.139017 ],\n",
            "       [  1.4280113,   9.447119 ]], dtype=float32)>,w1 : <tf.Variable 'Variable:0' shape=(2, 1) dtype=float32, numpy=\n",
            "array([[0.28099376],\n",
            "       [7.764419  ]], dtype=float32)>\n",
            "========================================================================================================================================================================================================\n",
            "cost : 0.4783359169960022,w0 : <tf.Variable 'Variable:0' shape=(2, 2) dtype=float32, numpy=\n",
            "array([[ -3.4127977, -11.301852 ],\n",
            "       [  1.4220829,   9.605647 ]], dtype=float32)>,w1 : <tf.Variable 'Variable:0' shape=(2, 1) dtype=float32, numpy=\n",
            "array([[0.13481344],\n",
            "       [7.896751  ]], dtype=float32)>\n",
            "========================================================================================================================================================================================================\n",
            "cost : 0.4781891703605652,w0 : <tf.Variable 'Variable:0' shape=(2, 2) dtype=float32, numpy=\n",
            "array([[ -3.4142323, -11.4550295],\n",
            "       [  1.4200277,   9.755113 ]], dtype=float32)>,w1 : <tf.Variable 'Variable:0' shape=(2, 1) dtype=float32, numpy=\n",
            "array([[-0.01815708],\n",
            "       [ 8.021722  ]], dtype=float32)>\n",
            "========================================================================================================================================================================================================\n",
            "cost : 0.47805550694465637,w0 : <tf.Variable 'Variable:0' shape=(2, 2) dtype=float32, numpy=\n",
            "array([[ -3.412469 , -11.599861 ],\n",
            "       [  1.4226114,   9.89672  ]], dtype=float32)>,w1 : <tf.Variable 'Variable:0' shape=(2, 1) dtype=float32, numpy=\n",
            "array([[-0.18105106],\n",
            "       [ 8.140312  ]], dtype=float32)>\n",
            "========================================================================================================================================================================================================\n",
            "cost : 0.47792667150497437,w0 : <tf.Variable 'Variable:0' shape=(2, 2) dtype=float32, numpy=\n",
            "array([[ -3.4066362, -11.73742  ],\n",
            "       [  1.431219 ,  10.031483 ]], dtype=float32)>,w1 : <tf.Variable 'Variable:0' shape=(2, 1) dtype=float32, numpy=\n",
            "array([[-0.35832378],\n",
            "       [ 8.253345  ]], dtype=float32)>\n",
            "========================================================================================================================================================================================================\n",
            "cost : 0.4777912199497223,w0 : <tf.Variable 'Variable:0' shape=(2, 2) dtype=float32, numpy=\n",
            "array([[ -3.3949666, -11.868603 ],\n",
            "       [  1.4484562,  10.16027  ]], dtype=float32)>,w1 : <tf.Variable 'Variable:0' shape=(2, 1) dtype=float32, numpy=\n",
            "array([[-0.55692923],\n",
            "       [ 8.361531  ]], dtype=float32)>\n",
            "========================================================================================================================================================================================================\n",
            "cost : 0.477627158164978,w0 : <tf.Variable 'Variable:0' shape=(2, 2) dtype=float32, numpy=\n",
            "array([[ -3.37359  , -11.994181 ],\n",
            "       [  1.4797367,  10.283877 ]], dtype=float32)>,w1 : <tf.Variable 'Variable:0' shape=(2, 1) dtype=float32, numpy=\n",
            "array([[-0.7890732],\n",
            "       [ 8.465544 ]], dtype=float32)>\n",
            "========================================================================================================================================================================================================\n",
            "cost : 0.47737276554107666,w0 : <tf.Variable 'Variable:0' shape=(2, 2) dtype=float32, numpy=\n",
            "array([[ -3.3323004, -12.114802 ],\n",
            "       [  1.5386596,  10.403195 ]], dtype=float32)>,w1 : <tf.Variable 'Variable:0' shape=(2, 1) dtype=float32, numpy=\n",
            "array([[-1.0801959],\n",
            "       [ 8.56612  ]], dtype=float32)>\n",
            "========================================================================================================================================================================================================\n",
            "cost : 0.4767339527606964,w0 : <tf.Variable 'Variable:0' shape=(2, 2) dtype=float32, numpy=\n",
            "array([[ -3.2307594, -12.231201 ],\n",
            "       [  1.6757063,  10.519846 ]], dtype=float32)>,w1 : <tf.Variable 'Variable:0' shape=(2, 1) dtype=float32, numpy=\n",
            "array([[-1.5026556],\n",
            "       [ 8.664626 ]], dtype=float32)>\n",
            "========================================================================================================================================================================================================\n",
            "cost : 0.44571974873542786,w0 : <tf.Variable 'Variable:0' shape=(2, 2) dtype=float32, numpy=\n",
            "array([[ -1.9525282, -12.344328 ],\n",
            "       [  3.0564585,  10.655116 ]], dtype=float32)>,w1 : <tf.Variable 'Variable:0' shape=(2, 1) dtype=float32, numpy=\n",
            "array([[-2.725201],\n",
            "       [ 8.776802]], dtype=float32)>\n",
            "========================================================================================================================================================================================================\n",
            "cost : 0.00936560332775116,w0 : <tf.Variable 'Variable:0' shape=(2, 2) dtype=float32, numpy=\n",
            "array([[ -7.2837267, -12.370115 ],\n",
            "       [  7.598799 ,  11.797043 ]], dtype=float32)>,w1 : <tf.Variable 'Variable:0' shape=(2, 1) dtype=float32, numpy=\n",
            "array([[-9.524923],\n",
            "       [10.312636]], dtype=float32)>\n",
            "========================================================================================================================================================================================================\n",
            "cost : 0.005068724509328604,w0 : <tf.Variable 'Variable:0' shape=(2, 2) dtype=float32, numpy=\n",
            "array([[ -7.613347, -12.385497],\n",
            "       [  8.024971,  12.112945]], dtype=float32)>,w1 : <tf.Variable 'Variable:0' shape=(2, 1) dtype=float32, numpy=\n",
            "array([[-10.758541],\n",
            "       [ 11.394746]], dtype=float32)>\n",
            "========================================================================================================================================================================================================\n",
            "cost : 0.003445911221206188,w0 : <tf.Variable 'Variable:0' shape=(2, 2) dtype=float32, numpy=\n",
            "array([[ -7.817232, -12.400346],\n",
            "       [  8.267979,  12.267692]], dtype=float32)>,w1 : <tf.Variable 'Variable:0' shape=(2, 1) dtype=float32, numpy=\n",
            "array([[-11.524825 ],\n",
            "       [ 12.1132965]], dtype=float32)>\n",
            "========================================================================================================================================================================================================\n",
            "cost : 0.002581613603979349,w0 : <tf.Variable 'Variable:0' shape=(2, 2) dtype=float32, numpy=\n",
            "array([[ -7.966607, -12.414353],\n",
            "       [  8.440042,  12.368527]], dtype=float32)>,w1 : <tf.Variable 'Variable:0' shape=(2, 1) dtype=float32, numpy=\n",
            "array([[-12.096521],\n",
            "       [ 12.661127]], dtype=float32)>\n",
            "========================================================================================================================================================================================================\n",
            "cost : 0.00204339437186718,w0 : <tf.Variable 'Variable:0' shape=(2, 2) dtype=float32, numpy=\n",
            "array([[ -8.085321, -12.427614],\n",
            "       [  8.573951,  12.442619]], dtype=float32)>,w1 : <tf.Variable 'Variable:0' shape=(2, 1) dtype=float32, numpy=\n",
            "array([[-12.558692],\n",
            "       [ 13.109066]], dtype=float32)>\n",
            "========================================================================================================================================================================================================\n",
            "cost : 0.001675998792052269,w0 : <tf.Variable 'Variable:0' shape=(2, 2) dtype=float32, numpy=\n",
            "array([[ -8.184335, -12.440248],\n",
            "       [  8.684058,  12.500908]], dtype=float32)>,w1 : <tf.Variable 'Variable:0' shape=(2, 1) dtype=float32, numpy=\n",
            "array([[-12.950263],\n",
            "       [ 13.491261]], dtype=float32)>\n",
            "========================================================================================================================================================================================================\n",
            "cost : 0.0014093072386458516,w0 : <tf.Variable 'Variable:0' shape=(2, 2) dtype=float32, numpy=\n",
            "array([[ -8.269622, -12.452357],\n",
            "       [  8.777928,  12.548829]], dtype=float32)>,w1 : <tf.Variable 'Variable:0' shape=(2, 1) dtype=float32, numpy=\n",
            "array([[-13.292454],\n",
            "       [ 13.826859]], dtype=float32)>\n",
            "========================================================================================================================================================================================================\n",
            "cost : 0.0012071061646565795,w0 : <tf.Variable 'Variable:0' shape=(2, 2) dtype=float32, numpy=\n",
            "array([[ -8.344806 , -12.4640255],\n",
            "       [  8.860024 ,  12.5894785]], dtype=float32)>,w1 : <tf.Variable 'Variable:0' shape=(2, 1) dtype=float32, numpy=\n",
            "array([[-13.598147],\n",
            "       [ 14.12771 ]], dtype=float32)>\n",
            "========================================================================================================================================================================================================\n",
            "cost : 0.0010487193940207362,w0 : <tf.Variable 'Variable:0' shape=(2, 2) dtype=float32, numpy=\n",
            "array([[ -8.412245 , -12.475322 ],\n",
            "       [  8.933202 ,  12.6247635]], dtype=float32)>,w1 : <tf.Variable 'Variable:0' shape=(2, 1) dtype=float32, numpy=\n",
            "array([[-13.875769 ],\n",
            "       [ 14.4016485]], dtype=float32)>\n",
            "========================================================================================================================================================================================================\n",
            "cost : 0.000921460276003927,w0 : <tf.Variable 'Variable:0' shape=(2, 2) dtype=float32, numpy=\n",
            "array([[ -8.473571, -12.4863  ],\n",
            "       [  8.999402,  12.655935]], dtype=float32)>,w1 : <tf.Variable 'Variable:0' shape=(2, 1) dtype=float32, numpy=\n",
            "array([[-14.131126],\n",
            "       [ 14.654141]], dtype=float32)>\n",
            "========================================================================================================================================================================================================\n",
            "cost : 0.0008170825894922018,w0 : <tf.Variable 'Variable:0' shape=(2, 2) dtype=float32, numpy=\n",
            "array([[ -8.529946, -12.497   ],\n",
            "       [  9.059993,  12.683866]], dtype=float32)>,w1 : <tf.Variable 'Variable:0' shape=(2, 1) dtype=float32, numpy=\n",
            "array([[-14.368417],\n",
            "       [ 14.889161]], dtype=float32)>\n",
            "========================================================================================================================================================================================================\n",
            "cost : 0.0007300307042896748,w0 : <tf.Variable 'Variable:0' shape=(2, 2) dtype=float32, numpy=\n",
            "array([[ -8.582233, -12.507467],\n",
            "       [  9.115988,  12.709182]], dtype=float32)>,w1 : <tf.Variable 'Variable:0' shape=(2, 1) dtype=float32, numpy=\n",
            "array([[-14.590759],\n",
            "       [ 15.109666]], dtype=float32)>\n",
            "========================================================================================================================================================================================================\n",
            "cost : 0.0006564079085364938,w0 : <tf.Variable 'Variable:0' shape=(2, 2) dtype=float32, numpy=\n",
            "array([[ -8.631093, -12.517724],\n",
            "       [  9.168145,  12.732348]], dtype=float32)>,w1 : <tf.Variable 'Variable:0' shape=(2, 1) dtype=float32, numpy=\n",
            "array([[-14.800533],\n",
            "       [ 15.317947]], dtype=float32)>\n",
            "========================================================================================================================================================================================================\n",
            "cost : 0.0005934223881922662,w0 : <tf.Variable 'Variable:0' shape=(2, 2) dtype=float32, numpy=\n",
            "array([[ -8.677034, -12.527794],\n",
            "       [  9.217053,  12.753719]], dtype=float32)>,w1 : <tf.Variable 'Variable:0' shape=(2, 1) dtype=float32, numpy=\n",
            "array([[-14.999612],\n",
            "       [ 15.515794]], dtype=float32)>\n",
            "========================================================================================================================================================================================================\n",
            "cost : 0.0005390143487602472,w0 : <tf.Variable 'Variable:0' shape=(2, 2) dtype=float32, numpy=\n",
            "array([[ -8.720465, -12.537705],\n",
            "       [  9.263181,  12.773565]], dtype=float32)>,w1 : <tf.Variable 'Variable:0' shape=(2, 1) dtype=float32, numpy=\n",
            "array([[-15.189476],\n",
            "       [ 15.704639]], dtype=float32)>\n",
            "========================================================================================================================================================================================================\n",
            "cost : 0.0004915721947327256,w0 : <tf.Variable 'Variable:0' shape=(2, 2) dtype=float32, numpy=\n",
            "array([[ -8.761715, -12.547477],\n",
            "       [  9.306895,  12.792109]], dtype=float32)>,w1 : <tf.Variable 'Variable:0' shape=(2, 1) dtype=float32, numpy=\n",
            "array([[-15.3713255],\n",
            "       [ 15.885653 ]], dtype=float32)>\n",
            "========================================================================================================================================================================================================\n",
            "cost : 0.0004499168717302382,w0 : <tf.Variable 'Variable:0' shape=(2, 2) dtype=float32, numpy=\n",
            "array([[ -8.801054, -12.557129],\n",
            "       [  9.348502,  12.809519]], dtype=float32)>,w1 : <tf.Variable 'Variable:0' shape=(2, 1) dtype=float32, numpy=\n",
            "array([[-15.546164],\n",
            "       [ 16.059786]], dtype=float32)>\n",
            "========================================================================================================================================================================================================\n",
            "cost : 0.00041307875653728843,w0 : <tf.Variable 'Variable:0' shape=(2, 2) dtype=float32, numpy=\n",
            "array([[ -8.8387  , -12.566663],\n",
            "       [  9.388251,  12.825947]], dtype=float32)>,w1 : <tf.Variable 'Variable:0' shape=(2, 1) dtype=float32, numpy=\n",
            "array([[-15.714793],\n",
            "       [ 16.227852]], dtype=float32)>\n",
            "========================================================================================================================================================================================================\n",
            "cost : 0.0003803118015639484,w0 : <tf.Variable 'Variable:0' shape=(2, 2) dtype=float32, numpy=\n",
            "array([[ -8.874846, -12.576099],\n",
            "       [  9.426354,  12.841502]], dtype=float32)>,w1 : <tf.Variable 'Variable:0' shape=(2, 1) dtype=float32, numpy=\n",
            "array([[-15.877935],\n",
            "       [ 16.3905  ]], dtype=float32)>\n",
            "========================================================================================================================================================================================================\n",
            "cost : 0.000351034221239388,w0 : <tf.Variable 'Variable:0' shape=(2, 2) dtype=float32, numpy=\n",
            "array([[ -8.909648, -12.585445],\n",
            "       [  9.462983,  12.856288]], dtype=float32)>,w1 : <tf.Variable 'Variable:0' shape=(2, 1) dtype=float32, numpy=\n",
            "array([[-16.036167],\n",
            "       [ 16.548311]], dtype=float32)>\n",
            "========================================================================================================================================================================================================\n",
            "cost : 0.0003247687127441168,w0 : <tf.Variable 'Variable:0' shape=(2, 2) dtype=float32, numpy=\n",
            "array([[ -8.94324 , -12.594706],\n",
            "       [  9.498291,  12.870389]], dtype=float32)>,w1 : <tf.Variable 'Variable:0' shape=(2, 1) dtype=float32, numpy=\n",
            "array([[-16.18996 ],\n",
            "       [ 16.701801]], dtype=float32)>\n",
            "========================================================================================================================================================================================================\n",
            "cost : 0.0003010081418324262,w0 : <tf.Variable 'Variable:0' shape=(2, 2) dtype=float32, numpy=\n",
            "array([[ -8.975738, -12.603902],\n",
            "       [  9.532408,  12.883868]], dtype=float32)>,w1 : <tf.Variable 'Variable:0' shape=(2, 1) dtype=float32, numpy=\n",
            "array([[-16.33979 ],\n",
            "       [ 16.851374]], dtype=float32)>\n",
            "========================================================================================================================================================================================================\n",
            "cost : 0.00027954368852078915,w0 : <tf.Variable 'Variable:0' shape=(2, 2) dtype=float32, numpy=\n",
            "array([[ -9.007244, -12.613057],\n",
            "       [  9.565441,  12.896792]], dtype=float32)>,w1 : <tf.Variable 'Variable:0' shape=(2, 1) dtype=float32, numpy=\n",
            "array([[-16.48602 ],\n",
            "       [ 16.997387]], dtype=float32)>\n",
            "========================================================================================================================================================================================================\n",
            "cost : 0.0002599876024760306,w0 : <tf.Variable 'Variable:0' shape=(2, 2) dtype=float32, numpy=\n",
            "array([[ -9.037839, -12.622117],\n",
            "       [  9.59749 ,  12.909214]], dtype=float32)>,w1 : <tf.Variable 'Variable:0' shape=(2, 1) dtype=float32, numpy=\n",
            "array([[-16.628986],\n",
            "       [ 17.140175]], dtype=float32)>\n",
            "========================================================================================================================================================================================================\n",
            "cost : 0.0002422205579932779,w0 : <tf.Variable 'Variable:0' shape=(2, 2) dtype=float32, numpy=\n",
            "array([[ -9.067608, -12.631169],\n",
            "       [  9.628638,  12.921177]], dtype=float32)>,w1 : <tf.Variable 'Variable:0' shape=(2, 1) dtype=float32, numpy=\n",
            "array([[-16.768969],\n",
            "       [ 17.280018]], dtype=float32)>\n",
            "========================================================================================================================================================================================================\n",
            "cost : 0.00022598904615733773,w0 : <tf.Variable 'Variable:0' shape=(2, 2) dtype=float32, numpy=\n",
            "array([[ -9.096619, -12.640134],\n",
            "       [  9.658959,  12.932721]], dtype=float32)>,w1 : <tf.Variable 'Variable:0' shape=(2, 1) dtype=float32, numpy=\n",
            "array([[-16.906225],\n",
            "       [ 17.417166]], dtype=float32)>\n",
            "========================================================================================================================================================================================================\n"
          ]
        }
      ]
    },
    {
      "cell_type": "code",
      "source": [],
      "metadata": {
        "id": "yzgsWN87rvHm"
      },
      "execution_count": null,
      "outputs": []
    }
  ]
}