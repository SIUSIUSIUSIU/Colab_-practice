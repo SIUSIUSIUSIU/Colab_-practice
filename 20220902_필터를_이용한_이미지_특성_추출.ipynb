{
  "nbformat": 4,
  "nbformat_minor": 0,
  "metadata": {
    "colab": {
      "provenance": [],
      "collapsed_sections": [],
      "authorship_tag": "ABX9TyONN4x9aIjcth0hqOeeE6hX",
      "include_colab_link": true
    },
    "kernelspec": {
      "name": "python3",
      "display_name": "Python 3"
    },
    "language_info": {
      "name": "python"
    }
  },
  "cells": [
    {
      "cell_type": "markdown",
      "metadata": {
        "id": "view-in-github",
        "colab_type": "text"
      },
      "source": [
        "<a href=\"https://colab.research.google.com/github/SIUSIUSIUSIU/Colab_-practice/blob/main/20220902_%ED%95%84%ED%84%B0%EB%A5%BC_%EC%9D%B4%EC%9A%A9%ED%95%9C_%EC%9D%B4%EB%AF%B8%EC%A7%80_%ED%8A%B9%EC%84%B1_%EC%B6%94%EC%B6%9C.ipynb\" target=\"_parent\"><img src=\"https://colab.research.google.com/assets/colab-badge.svg\" alt=\"Open In Colab\"/></a>"
      ]
    },
    {
      "cell_type": "code",
      "execution_count": 1,
      "metadata": {
        "id": "QX3P1gk13xP1"
      },
      "outputs": [],
      "source": [
        "import numpy as np\n",
        "import matplotlib.pyplot as plt\n",
        "import tensorflow as tf"
      ]
    },
    {
      "cell_type": "code",
      "source": [
        "np.set_printoptions(linewidth=1000)"
      ],
      "metadata": {
        "id": "d-tqi4Ro4bRR"
      },
      "execution_count": 2,
      "outputs": []
    },
    {
      "cell_type": "code",
      "source": [
        "[0]*14"
      ],
      "metadata": {
        "colab": {
          "base_uri": "https://localhost:8080/"
        },
        "id": "Obp0HDXl4bua",
        "outputId": "8daa9b71-fd9b-42a6-f7a5-70efb27affe9"
      },
      "execution_count": 3,
      "outputs": [
        {
          "output_type": "execute_result",
          "data": {
            "text/plain": [
              "[0, 0, 0, 0, 0, 0, 0, 0, 0, 0, 0, 0, 0, 0]"
            ]
          },
          "metadata": {},
          "execution_count": 3
        }
      ]
    },
    {
      "cell_type": "code",
      "source": [
        "image1 = np.array([\n",
        "    [0]*14,\n",
        "    [0]*14,\n",
        "    [0]*14,\n",
        "    [0,0,0,1,1,0.5,0.7,1,1,1,0.2,0,0,0],\n",
        "    [0]*14, [0]*14, [0]*14,\n",
        "    [0,0,0,0, 0.5, 0,0,0,0,1,0,0,0,0],\n",
        "    [0,0,0,0, 0.4, 0,0,0,0,1,0,0,0,0],\n",
        "    [0,0,0,0, 0.9, 0,0,0,0,1,0,0,0,0],\n",
        "    [0,0,0,0, 1 , 0,0,0,0,1,0,0,0,0],\n",
        "    [0]*14, [0]*14, [0]*14\n",
        "], dtype=\"float32\")"
      ],
      "metadata": {
        "id": "VYNn0L1D4dr6"
      },
      "execution_count": 4,
      "outputs": []
    },
    {
      "cell_type": "code",
      "source": [
        "image1"
      ],
      "metadata": {
        "colab": {
          "base_uri": "https://localhost:8080/"
        },
        "id": "HO-H8BJy5iRz",
        "outputId": "3d580bf5-f1cb-4e70-f741-47f539b68a60"
      },
      "execution_count": 5,
      "outputs": [
        {
          "output_type": "execute_result",
          "data": {
            "text/plain": [
              "array([[0. , 0. , 0. , 0. , 0. , 0. , 0. , 0. , 0. , 0. , 0. , 0. , 0. , 0. ],\n",
              "       [0. , 0. , 0. , 0. , 0. , 0. , 0. , 0. , 0. , 0. , 0. , 0. , 0. , 0. ],\n",
              "       [0. , 0. , 0. , 0. , 0. , 0. , 0. , 0. , 0. , 0. , 0. , 0. , 0. , 0. ],\n",
              "       [0. , 0. , 0. , 1. , 1. , 0.5, 0.7, 1. , 1. , 1. , 0.2, 0. , 0. , 0. ],\n",
              "       [0. , 0. , 0. , 0. , 0. , 0. , 0. , 0. , 0. , 0. , 0. , 0. , 0. , 0. ],\n",
              "       [0. , 0. , 0. , 0. , 0. , 0. , 0. , 0. , 0. , 0. , 0. , 0. , 0. , 0. ],\n",
              "       [0. , 0. , 0. , 0. , 0. , 0. , 0. , 0. , 0. , 0. , 0. , 0. , 0. , 0. ],\n",
              "       [0. , 0. , 0. , 0. , 0.5, 0. , 0. , 0. , 0. , 1. , 0. , 0. , 0. , 0. ],\n",
              "       [0. , 0. , 0. , 0. , 0.4, 0. , 0. , 0. , 0. , 1. , 0. , 0. , 0. , 0. ],\n",
              "       [0. , 0. , 0. , 0. , 0.9, 0. , 0. , 0. , 0. , 1. , 0. , 0. , 0. , 0. ],\n",
              "       [0. , 0. , 0. , 0. , 1. , 0. , 0. , 0. , 0. , 1. , 0. , 0. , 0. , 0. ],\n",
              "       [0. , 0. , 0. , 0. , 0. , 0. , 0. , 0. , 0. , 0. , 0. , 0. , 0. , 0. ],\n",
              "       [0. , 0. , 0. , 0. , 0. , 0. , 0. , 0. , 0. , 0. , 0. , 0. , 0. , 0. ],\n",
              "       [0. , 0. , 0. , 0. , 0. , 0. , 0. , 0. , 0. , 0. , 0. , 0. , 0. , 0. ]], dtype=float32)"
            ]
          },
          "metadata": {},
          "execution_count": 5
        }
      ]
    },
    {
      "cell_type": "code",
      "source": [
        "plt.figure(figsize=(10,10))\n",
        "plt.imshow(image1, cmap=\"Greys\")"
      ],
      "metadata": {
        "colab": {
          "base_uri": "https://localhost:8080/",
          "height": 610
        },
        "id": "IweVTWH_5nxT",
        "outputId": "ce61f5c5-3f1e-446a-8347-33a15cfb1f24"
      },
      "execution_count": 6,
      "outputs": [
        {
          "output_type": "execute_result",
          "data": {
            "text/plain": [
              "<matplotlib.image.AxesImage at 0x7f20bbdc3fd0>"
            ]
          },
          "metadata": {},
          "execution_count": 6
        },
        {
          "output_type": "display_data",
          "data": {
            "text/plain": [
              "<Figure size 720x720 with 1 Axes>"
            ],
            "image/png": "[encoded data removed]"
          },
          "metadata": {
            "needs_background": "light"
          }
        }
      ]
    },
    {
      "cell_type": "code",
      "source": [
        "image1 = image1.reshape(1,14,14,1) # ( 이미지 개수, 이미지 줄, 이미지 칸, 이미지 RBG )"
      ],
      "metadata": {
        "id": "VpPkc6jz6B7z"
      },
      "execution_count": 7,
      "outputs": []
    },
    {
      "cell_type": "code",
      "source": [
        "image1"
      ],
      "metadata": {
        "colab": {
          "base_uri": "https://localhost:8080/"
        },
        "id": "4OKIWWqc6eVO",
        "outputId": "0b4a4adc-2aef-4618-e210-6d14026bc077"
      },
      "execution_count": 8,
      "outputs": [
        {
          "output_type": "execute_result",
          "data": {
            "text/plain": [
              "array([[[[0. ],\n",
              "         [0. ],\n",
              "         [0. ],\n",
              "         [0. ],\n",
              "         [0. ],\n",
              "         [0. ],\n",
              "         [0. ],\n",
              "         [0. ],\n",
              "         [0. ],\n",
              "         [0. ],\n",
              "         [0. ],\n",
              "         [0. ],\n",
              "         [0. ],\n",
              "         [0. ]],\n",
              "\n",
              "        [[0. ],\n",
              "         [0. ],\n",
              "         [0. ],\n",
              "         [0. ],\n",
              "         [0. ],\n",
              "         [0. ],\n",
              "         [0. ],\n",
              "         [0. ],\n",
              "         [0. ],\n",
              "         [0. ],\n",
              "         [0. ],\n",
              "         [0. ],\n",
              "         [0. ],\n",
              "         [0. ]],\n",
              "\n",
              "        [[0. ],\n",
              "         [0. ],\n",
              "         [0. ],\n",
              "         [0. ],\n",
              "         [0. ],\n",
              "         [0. ],\n",
              "         [0. ],\n",
              "         [0. ],\n",
              "         [0. ],\n",
              "         [0. ],\n",
              "         [0. ],\n",
              "         [0. ],\n",
              "         [0. ],\n",
              "         [0. ]],\n",
              "\n",
              "        [[0. ],\n",
              "         [0. ],\n",
              "         [0. ],\n",
              "         [1. ],\n",
              "         [1. ],\n",
              "         [0.5],\n",
              "         [0.7],\n",
              "         [1. ],\n",
              "         [1. ],\n",
              "         [1. ],\n",
              "         [0.2],\n",
              "         [0. ],\n",
              "         [0. ],\n",
              "         [0. ]],\n",
              "\n",
              "        [[0. ],\n",
              "         [0. ],\n",
              "         [0. ],\n",
              "         [0. ],\n",
              "         [0. ],\n",
              "         [0. ],\n",
              "         [0. ],\n",
              "         [0. ],\n",
              "         [0. ],\n",
              "         [0. ],\n",
              "         [0. ],\n",
              "         [0. ],\n",
              "         [0. ],\n",
              "         [0. ]],\n",
              "\n",
              "        [[0. ],\n",
              "         [0. ],\n",
              "         [0. ],\n",
              "         [0. ],\n",
              "         [0. ],\n",
              "         [0. ],\n",
              "         [0. ],\n",
              "         [0. ],\n",
              "         [0. ],\n",
              "         [0. ],\n",
              "         [0. ],\n",
              "         [0. ],\n",
              "         [0. ],\n",
              "         [0. ]],\n",
              "\n",
              "        [[0. ],\n",
              "         [0. ],\n",
              "         [0. ],\n",
              "         [0. ],\n",
              "         [0. ],\n",
              "         [0. ],\n",
              "         [0. ],\n",
              "         [0. ],\n",
              "         [0. ],\n",
              "         [0. ],\n",
              "         [0. ],\n",
              "         [0. ],\n",
              "         [0. ],\n",
              "         [0. ]],\n",
              "\n",
              "        [[0. ],\n",
              "         [0. ],\n",
              "         [0. ],\n",
              "         [0. ],\n",
              "         [0.5],\n",
              "         [0. ],\n",
              "         [0. ],\n",
              "         [0. ],\n",
              "         [0. ],\n",
              "         [1. ],\n",
              "         [0. ],\n",
              "         [0. ],\n",
              "         [0. ],\n",
              "         [0. ]],\n",
              "\n",
              "        [[0. ],\n",
              "         [0. ],\n",
              "         [0. ],\n",
              "         [0. ],\n",
              "         [0.4],\n",
              "         [0. ],\n",
              "         [0. ],\n",
              "         [0. ],\n",
              "         [0. ],\n",
              "         [1. ],\n",
              "         [0. ],\n",
              "         [0. ],\n",
              "         [0. ],\n",
              "         [0. ]],\n",
              "\n",
              "        [[0. ],\n",
              "         [0. ],\n",
              "         [0. ],\n",
              "         [0. ],\n",
              "         [0.9],\n",
              "         [0. ],\n",
              "         [0. ],\n",
              "         [0. ],\n",
              "         [0. ],\n",
              "         [1. ],\n",
              "         [0. ],\n",
              "         [0. ],\n",
              "         [0. ],\n",
              "         [0. ]],\n",
              "\n",
              "        [[0. ],\n",
              "         [0. ],\n",
              "         [0. ],\n",
              "         [0. ],\n",
              "         [1. ],\n",
              "         [0. ],\n",
              "         [0. ],\n",
              "         [0. ],\n",
              "         [0. ],\n",
              "         [1. ],\n",
              "         [0. ],\n",
              "         [0. ],\n",
              "         [0. ],\n",
              "         [0. ]],\n",
              "\n",
              "        [[0. ],\n",
              "         [0. ],\n",
              "         [0. ],\n",
              "         [0. ],\n",
              "         [0. ],\n",
              "         [0. ],\n",
              "         [0. ],\n",
              "         [0. ],\n",
              "         [0. ],\n",
              "         [0. ],\n",
              "         [0. ],\n",
              "         [0. ],\n",
              "         [0. ],\n",
              "         [0. ]],\n",
              "\n",
              "        [[0. ],\n",
              "         [0. ],\n",
              "         [0. ],\n",
              "         [0. ],\n",
              "         [0. ],\n",
              "         [0. ],\n",
              "         [0. ],\n",
              "         [0. ],\n",
              "         [0. ],\n",
              "         [0. ],\n",
              "         [0. ],\n",
              "         [0. ],\n",
              "         [0. ],\n",
              "         [0. ]],\n",
              "\n",
              "        [[0. ],\n",
              "         [0. ],\n",
              "         [0. ],\n",
              "         [0. ],\n",
              "         [0. ],\n",
              "         [0. ],\n",
              "         [0. ],\n",
              "         [0. ],\n",
              "         [0. ],\n",
              "         [0. ],\n",
              "         [0. ],\n",
              "         [0. ],\n",
              "         [0. ],\n",
              "         [0. ]]]], dtype=float32)"
            ]
          },
          "metadata": {},
          "execution_count": 8
        }
      ]
    },
    {
      "cell_type": "code",
      "source": [
        "image1.shape"
      ],
      "metadata": {
        "colab": {
          "base_uri": "https://localhost:8080/"
        },
        "id": "dIT8N77a6gG3",
        "outputId": "18509474-32bb-41ec-eb99-299e7aba06f1"
      },
      "execution_count": 9,
      "outputs": [
        {
          "output_type": "execute_result",
          "data": {
            "text/plain": [
              "(1, 14, 14, 1)"
            ]
          },
          "metadata": {},
          "execution_count": 9
        }
      ]
    },
    {
      "cell_type": "code",
      "source": [
        "w1 = np.array([\n",
        "    [1,2,1],\n",
        "    [0,0,0],\n",
        "    [-1,-2,-1]\n",
        "], dtype=\"float32\")\n",
        "\n",
        "w1"
      ],
      "metadata": {
        "colab": {
          "base_uri": "https://localhost:8080/"
        },
        "id": "7eLLcU0I6naG",
        "outputId": "9a96b1cd-4e8b-4ac3-d54b-8c520631a4d3"
      },
      "execution_count": 10,
      "outputs": [
        {
          "output_type": "execute_result",
          "data": {
            "text/plain": [
              "array([[ 1.,  2.,  1.],\n",
              "       [ 0.,  0.,  0.],\n",
              "       [-1., -2., -1.]], dtype=float32)"
            ]
          },
          "metadata": {},
          "execution_count": 10
        }
      ]
    },
    {
      "cell_type": "code",
      "source": [
        "# 이미지가 4차원이기 때문에 필터도 4차원으로 변환\n",
        "w1 = w1.reshape(3,3,1,1)\n",
        "w1"
      ],
      "metadata": {
        "colab": {
          "base_uri": "https://localhost:8080/"
        },
        "id": "NfbvwSPo7Anj",
        "outputId": "e28028e3-15d3-4bc9-ba92-fbead6b9e451"
      },
      "execution_count": 11,
      "outputs": [
        {
          "output_type": "execute_result",
          "data": {
            "text/plain": [
              "array([[[[ 1.]],\n",
              "\n",
              "        [[ 2.]],\n",
              "\n",
              "        [[ 1.]]],\n",
              "\n",
              "\n",
              "       [[[ 0.]],\n",
              "\n",
              "        [[ 0.]],\n",
              "\n",
              "        [[ 0.]]],\n",
              "\n",
              "\n",
              "       [[[-1.]],\n",
              "\n",
              "        [[-2.]],\n",
              "\n",
              "        [[-1.]]]], dtype=float32)"
            ]
          },
          "metadata": {},
          "execution_count": 11
        }
      ]
    },
    {
      "cell_type": "code",
      "source": [
        "w1.shape"
      ],
      "metadata": {
        "colab": {
          "base_uri": "https://localhost:8080/"
        },
        "id": "Em8AdKnv7sgt",
        "outputId": "65394a24-92ba-4754-df7c-5a83cfa0dff3"
      },
      "execution_count": 12,
      "outputs": [
        {
          "output_type": "execute_result",
          "data": {
            "text/plain": [
              "(3, 3, 1, 1)"
            ]
          },
          "metadata": {},
          "execution_count": 12
        }
      ]
    },
    {
      "cell_type": "code",
      "source": [
        "conv1 =  tf.nn.conv2d(image1, w1, strides=1, padding='SAME')\n",
        "conv1"
      ],
      "metadata": {
        "colab": {
          "base_uri": "https://localhost:8080/"
        },
        "id": "lMSwzC1O7y0m",
        "outputId": "1e632387-2e73-4b91-94be-b742738f1969"
      },
      "execution_count": 13,
      "outputs": [
        {
          "output_type": "execute_result",
          "data": {
            "text/plain": [
              "<tf.Tensor: shape=(1, 14, 14, 1), dtype=float32, numpy=\n",
              "array([[[[ 0.        ],\n",
              "         [ 0.        ],\n",
              "         [ 0.        ],\n",
              "         [ 0.        ],\n",
              "         [ 0.        ],\n",
              "         [ 0.        ],\n",
              "         [ 0.        ],\n",
              "         [ 0.        ],\n",
              "         [ 0.        ],\n",
              "         [ 0.        ],\n",
              "         [ 0.        ],\n",
              "         [ 0.        ],\n",
              "         [ 0.        ],\n",
              "         [ 0.        ]],\n",
              "\n",
              "        [[ 0.        ],\n",
              "         [ 0.        ],\n",
              "         [ 0.        ],\n",
              "         [ 0.        ],\n",
              "         [ 0.        ],\n",
              "         [ 0.        ],\n",
              "         [ 0.        ],\n",
              "         [ 0.        ],\n",
              "         [ 0.        ],\n",
              "         [ 0.        ],\n",
              "         [ 0.        ],\n",
              "         [ 0.        ],\n",
              "         [ 0.        ],\n",
              "         [ 0.        ]],\n",
              "\n",
              "        [[ 0.        ],\n",
              "         [ 0.        ],\n",
              "         [-1.        ],\n",
              "         [-3.        ],\n",
              "         [-3.5       ],\n",
              "         [-2.7       ],\n",
              "         [-2.9       ],\n",
              "         [-3.7       ],\n",
              "         [-4.        ],\n",
              "         [-3.2       ],\n",
              "         [-1.4       ],\n",
              "         [-0.2       ],\n",
              "         [ 0.        ],\n",
              "         [ 0.        ]],\n",
              "\n",
              "        [[ 0.        ],\n",
              "         [ 0.        ],\n",
              "         [ 0.        ],\n",
              "         [ 0.        ],\n",
              "         [ 0.        ],\n",
              "         [ 0.        ],\n",
              "         [ 0.        ],\n",
              "         [ 0.        ],\n",
              "         [ 0.        ],\n",
              "         [ 0.        ],\n",
              "         [ 0.        ],\n",
              "         [ 0.        ],\n",
              "         [ 0.        ],\n",
              "         [ 0.        ]],\n",
              "\n",
              "        [[ 0.        ],\n",
              "         [ 0.        ],\n",
              "         [ 1.        ],\n",
              "         [ 3.        ],\n",
              "         [ 3.5       ],\n",
              "         [ 2.7       ],\n",
              "         [ 2.9       ],\n",
              "         [ 3.7       ],\n",
              "         [ 4.        ],\n",
              "         [ 3.2       ],\n",
              "         [ 1.4       ],\n",
              "         [ 0.2       ],\n",
              "         [ 0.        ],\n",
              "         [ 0.        ]],\n",
              "\n",
              "        [[ 0.        ],\n",
              "         [ 0.        ],\n",
              "         [ 0.        ],\n",
              "         [ 0.        ],\n",
              "         [ 0.        ],\n",
              "         [ 0.        ],\n",
              "         [ 0.        ],\n",
              "         [ 0.        ],\n",
              "         [ 0.        ],\n",
              "         [ 0.        ],\n",
              "         [ 0.        ],\n",
              "         [ 0.        ],\n",
              "         [ 0.        ],\n",
              "         [ 0.        ]],\n",
              "\n",
              "        [[ 0.        ],\n",
              "         [ 0.        ],\n",
              "         [ 0.        ],\n",
              "         [-0.5       ],\n",
              "         [-1.        ],\n",
              "         [-0.5       ],\n",
              "         [ 0.        ],\n",
              "         [ 0.        ],\n",
              "         [-1.        ],\n",
              "         [-2.        ],\n",
              "         [-1.        ],\n",
              "         [ 0.        ],\n",
              "         [ 0.        ],\n",
              "         [ 0.        ]],\n",
              "\n",
              "        [[ 0.        ],\n",
              "         [ 0.        ],\n",
              "         [ 0.        ],\n",
              "         [-0.4       ],\n",
              "         [-0.8       ],\n",
              "         [-0.4       ],\n",
              "         [ 0.        ],\n",
              "         [ 0.        ],\n",
              "         [-1.        ],\n",
              "         [-2.        ],\n",
              "         [-1.        ],\n",
              "         [ 0.        ],\n",
              "         [ 0.        ],\n",
              "         [ 0.        ]],\n",
              "\n",
              "        [[ 0.        ],\n",
              "         [ 0.        ],\n",
              "         [ 0.        ],\n",
              "         [-0.39999998],\n",
              "         [-0.79999995],\n",
              "         [-0.39999998],\n",
              "         [ 0.        ],\n",
              "         [ 0.        ],\n",
              "         [ 0.        ],\n",
              "         [ 0.        ],\n",
              "         [ 0.        ],\n",
              "         [ 0.        ],\n",
              "         [ 0.        ],\n",
              "         [ 0.        ]],\n",
              "\n",
              "        [[ 0.        ],\n",
              "         [ 0.        ],\n",
              "         [ 0.        ],\n",
              "         [-0.6       ],\n",
              "         [-1.2       ],\n",
              "         [-0.6       ],\n",
              "         [ 0.        ],\n",
              "         [ 0.        ],\n",
              "         [ 0.        ],\n",
              "         [ 0.        ],\n",
              "         [ 0.        ],\n",
              "         [ 0.        ],\n",
              "         [ 0.        ],\n",
              "         [ 0.        ]],\n",
              "\n",
              "        [[ 0.        ],\n",
              "         [ 0.        ],\n",
              "         [ 0.        ],\n",
              "         [ 0.9       ],\n",
              "         [ 1.8       ],\n",
              "         [ 0.9       ],\n",
              "         [ 0.        ],\n",
              "         [ 0.        ],\n",
              "         [ 1.        ],\n",
              "         [ 2.        ],\n",
              "         [ 1.        ],\n",
              "         [ 0.        ],\n",
              "         [ 0.        ],\n",
              "         [ 0.        ]],\n",
              "\n",
              "        [[ 0.        ],\n",
              "         [ 0.        ],\n",
              "         [ 0.        ],\n",
              "         [ 1.        ],\n",
              "         [ 2.        ],\n",
              "         [ 1.        ],\n",
              "         [ 0.        ],\n",
              "         [ 0.        ],\n",
              "         [ 1.        ],\n",
              "         [ 2.        ],\n",
              "         [ 1.        ],\n",
              "         [ 0.        ],\n",
              "         [ 0.        ],\n",
              "         [ 0.        ]],\n",
              "\n",
              "        [[ 0.        ],\n",
              "         [ 0.        ],\n",
              "         [ 0.        ],\n",
              "         [ 0.        ],\n",
              "         [ 0.        ],\n",
              "         [ 0.        ],\n",
              "         [ 0.        ],\n",
              "         [ 0.        ],\n",
              "         [ 0.        ],\n",
              "         [ 0.        ],\n",
              "         [ 0.        ],\n",
              "         [ 0.        ],\n",
              "         [ 0.        ],\n",
              "         [ 0.        ]],\n",
              "\n",
              "        [[ 0.        ],\n",
              "         [ 0.        ],\n",
              "         [ 0.        ],\n",
              "         [ 0.        ],\n",
              "         [ 0.        ],\n",
              "         [ 0.        ],\n",
              "         [ 0.        ],\n",
              "         [ 0.        ],\n",
              "         [ 0.        ],\n",
              "         [ 0.        ],\n",
              "         [ 0.        ],\n",
              "         [ 0.        ],\n",
              "         [ 0.        ],\n",
              "         [ 0.        ]]]], dtype=float32)>"
            ]
          },
          "metadata": {},
          "execution_count": 13
        }
      ]
    },
    {
      "cell_type": "code",
      "source": [
        "tf.reshape(conv1, (14,14))"
      ],
      "metadata": {
        "colab": {
          "base_uri": "https://localhost:8080/"
        },
        "id": "tCbNoIKs8gow",
        "outputId": "00aac882-921d-4370-ca91-4a48de39f477"
      },
      "execution_count": 15,
      "outputs": [
        {
          "output_type": "execute_result",
          "data": {
            "text/plain": [
              "<tf.Tensor: shape=(14, 14), dtype=float32, numpy=\n",
              "array([[ 0.        ,  0.        ,  0.        ,  0.        ,  0.        ,  0.        ,  0.        ,  0.        ,  0.        ,  0.        ,  0.        ,  0.        ,  0.        ,  0.        ],\n",
              "       [ 0.        ,  0.        ,  0.        ,  0.        ,  0.        ,  0.        ,  0.        ,  0.        ,  0.        ,  0.        ,  0.        ,  0.        ,  0.        ,  0.        ],\n",
              "       [ 0.        ,  0.        , -1.        , -3.        , -3.5       , -2.7       , -2.9       , -3.7       , -4.        , -3.2       , -1.4       , -0.2       ,  0.        ,  0.        ],\n",
              "       [ 0.        ,  0.        ,  0.        ,  0.        ,  0.        ,  0.        ,  0.        ,  0.        ,  0.        ,  0.        ,  0.        ,  0.        ,  0.        ,  0.        ],\n",
              "       [ 0.        ,  0.        ,  1.        ,  3.        ,  3.5       ,  2.7       ,  2.9       ,  3.7       ,  4.        ,  3.2       ,  1.4       ,  0.2       ,  0.        ,  0.        ],\n",
              "       [ 0.        ,  0.        ,  0.        ,  0.        ,  0.        ,  0.        ,  0.        ,  0.        ,  0.        ,  0.        ,  0.        ,  0.        ,  0.        ,  0.        ],\n",
              "       [ 0.        ,  0.        ,  0.        , -0.5       , -1.        , -0.5       ,  0.        ,  0.        , -1.        , -2.        , -1.        ,  0.        ,  0.        ,  0.        ],\n",
              "       [ 0.        ,  0.        ,  0.        , -0.4       , -0.8       , -0.4       ,  0.        ,  0.        , -1.        , -2.        , -1.        ,  0.        ,  0.        ,  0.        ],\n",
              "       [ 0.        ,  0.        ,  0.        , -0.39999998, -0.79999995, -0.39999998,  0.        ,  0.        ,  0.        ,  0.        ,  0.        ,  0.        ,  0.        ,  0.        ],\n",
              "       [ 0.        ,  0.        ,  0.        , -0.6       , -1.2       , -0.6       ,  0.        ,  0.        ,  0.        ,  0.        ,  0.        ,  0.        ,  0.        ,  0.        ],\n",
              "       [ 0.        ,  0.        ,  0.        ,  0.9       ,  1.8       ,  0.9       ,  0.        ,  0.        ,  1.        ,  2.        ,  1.        ,  0.        ,  0.        ,  0.        ],\n",
              "       [ 0.        ,  0.        ,  0.        ,  1.        ,  2.        ,  1.        ,  0.        ,  0.        ,  1.        ,  2.        ,  1.        ,  0.        ,  0.        ,  0.        ],\n",
              "       [ 0.        ,  0.        ,  0.        ,  0.        ,  0.        ,  0.        ,  0.        ,  0.        ,  0.        ,  0.        ,  0.        ,  0.        ,  0.        ,  0.        ],\n",
              "       [ 0.        ,  0.        ,  0.        ,  0.        ,  0.        ,  0.        ,  0.        ,  0.        ,  0.        ,  0.        ,  0.        ,  0.        ,  0.        ,  0.        ]], dtype=float32)>"
            ]
          },
          "metadata": {},
          "execution_count": 15
        }
      ]
    },
    {
      "cell_type": "code",
      "source": [
        "plt.figure(figsize=(10,10)) # 수평 합성곱\n",
        "plt.imshow(tf.reshape(conv1, (14,14)), cmap=\"Greys\")"
      ],
      "metadata": {
        "colab": {
          "base_uri": "https://localhost:8080/",
          "height": 610
        },
        "id": "-cXCpPacBbY2",
        "outputId": "22766879-fc6c-41d3-fadf-3a3a2aa16ac7"
      },
      "execution_count": 16,
      "outputs": [
        {
          "output_type": "execute_result",
          "data": {
            "text/plain": [
              "<matplotlib.image.AxesImage at 0x7f20bb8bed50>"
            ]
          },
          "metadata": {},
          "execution_count": 16
        },
        {
          "output_type": "display_data",
          "data": {
            "text/plain": [
              "<Figure size 720x720 with 1 Axes>"
            ],
            "image/png": "[encoded data removed]"
          },
          "metadata": {
            "needs_background": "light"
          }
        }
      ]
    },
    {
      "cell_type": "code",
      "source": [
        "tf.nn.relu(conv1) # relu = 음수는 0, 양수는 양수로 리턴하는 함수"
      ],
      "metadata": {
        "colab": {
          "base_uri": "https://localhost:8080/"
        },
        "id": "8uLPRN4WCQFL",
        "outputId": "16fc0732-bf19-4e49-a93b-91b09288b4ae"
      },
      "execution_count": 17,
      "outputs": [
        {
          "output_type": "execute_result",
          "data": {
            "text/plain": [
              "<tf.Tensor: shape=(1, 14, 14, 1), dtype=float32, numpy=\n",
              "array([[[[0. ],\n",
              "         [0. ],\n",
              "         [0. ],\n",
              "         [0. ],\n",
              "         [0. ],\n",
              "         [0. ],\n",
              "         [0. ],\n",
              "         [0. ],\n",
              "         [0. ],\n",
              "         [0. ],\n",
              "         [0. ],\n",
              "         [0. ],\n",
              "         [0. ],\n",
              "         [0. ]],\n",
              "\n",
              "        [[0. ],\n",
              "         [0. ],\n",
              "         [0. ],\n",
              "         [0. ],\n",
              "         [0. ],\n",
              "         [0. ],\n",
              "         [0. ],\n",
              "         [0. ],\n",
              "         [0. ],\n",
              "         [0. ],\n",
              "         [0. ],\n",
              "         [0. ],\n",
              "         [0. ],\n",
              "         [0. ]],\n",
              "\n",
              "        [[0. ],\n",
              "         [0. ],\n",
              "         [0. ],\n",
              "         [0. ],\n",
              "         [0. ],\n",
              "         [0. ],\n",
              "         [0. ],\n",
              "         [0. ],\n",
              "         [0. ],\n",
              "         [0. ],\n",
              "         [0. ],\n",
              "         [0. ],\n",
              "         [0. ],\n",
              "         [0. ]],\n",
              "\n",
              "        [[0. ],\n",
              "         [0. ],\n",
              "         [0. ],\n",
              "         [0. ],\n",
              "         [0. ],\n",
              "         [0. ],\n",
              "         [0. ],\n",
              "         [0. ],\n",
              "         [0. ],\n",
              "         [0. ],\n",
              "         [0. ],\n",
              "         [0. ],\n",
              "         [0. ],\n",
              "         [0. ]],\n",
              "\n",
              "        [[0. ],\n",
              "         [0. ],\n",
              "         [1. ],\n",
              "         [3. ],\n",
              "         [3.5],\n",
              "         [2.7],\n",
              "         [2.9],\n",
              "         [3.7],\n",
              "         [4. ],\n",
              "         [3.2],\n",
              "         [1.4],\n",
              "         [0.2],\n",
              "         [0. ],\n",
              "         [0. ]],\n",
              "\n",
              "        [[0. ],\n",
              "         [0. ],\n",
              "         [0. ],\n",
              "         [0. ],\n",
              "         [0. ],\n",
              "         [0. ],\n",
              "         [0. ],\n",
              "         [0. ],\n",
              "         [0. ],\n",
              "         [0. ],\n",
              "         [0. ],\n",
              "         [0. ],\n",
              "         [0. ],\n",
              "         [0. ]],\n",
              "\n",
              "        [[0. ],\n",
              "         [0. ],\n",
              "         [0. ],\n",
              "         [0. ],\n",
              "         [0. ],\n",
              "         [0. ],\n",
              "         [0. ],\n",
              "         [0. ],\n",
              "         [0. ],\n",
              "         [0. ],\n",
              "         [0. ],\n",
              "         [0. ],\n",
              "         [0. ],\n",
              "         [0. ]],\n",
              "\n",
              "        [[0. ],\n",
              "         [0. ],\n",
              "         [0. ],\n",
              "         [0. ],\n",
              "         [0. ],\n",
              "         [0. ],\n",
              "         [0. ],\n",
              "         [0. ],\n",
              "         [0. ],\n",
              "         [0. ],\n",
              "         [0. ],\n",
              "         [0. ],\n",
              "         [0. ],\n",
              "         [0. ]],\n",
              "\n",
              "        [[0. ],\n",
              "         [0. ],\n",
              "         [0. ],\n",
              "         [0. ],\n",
              "         [0. ],\n",
              "         [0. ],\n",
              "         [0. ],\n",
              "         [0. ],\n",
              "         [0. ],\n",
              "         [0. ],\n",
              "         [0. ],\n",
              "         [0. ],\n",
              "         [0. ],\n",
              "         [0. ]],\n",
              "\n",
              "        [[0. ],\n",
              "         [0. ],\n",
              "         [0. ],\n",
              "         [0. ],\n",
              "         [0. ],\n",
              "         [0. ],\n",
              "         [0. ],\n",
              "         [0. ],\n",
              "         [0. ],\n",
              "         [0. ],\n",
              "         [0. ],\n",
              "         [0. ],\n",
              "         [0. ],\n",
              "         [0. ]],\n",
              "\n",
              "        [[0. ],\n",
              "         [0. ],\n",
              "         [0. ],\n",
              "         [0.9],\n",
              "         [1.8],\n",
              "         [0.9],\n",
              "         [0. ],\n",
              "         [0. ],\n",
              "         [1. ],\n",
              "         [2. ],\n",
              "         [1. ],\n",
              "         [0. ],\n",
              "         [0. ],\n",
              "         [0. ]],\n",
              "\n",
              "        [[0. ],\n",
              "         [0. ],\n",
              "         [0. ],\n",
              "         [1. ],\n",
              "         [2. ],\n",
              "         [1. ],\n",
              "         [0. ],\n",
              "         [0. ],\n",
              "         [1. ],\n",
              "         [2. ],\n",
              "         [1. ],\n",
              "         [0. ],\n",
              "         [0. ],\n",
              "         [0. ]],\n",
              "\n",
              "        [[0. ],\n",
              "         [0. ],\n",
              "         [0. ],\n",
              "         [0. ],\n",
              "         [0. ],\n",
              "         [0. ],\n",
              "         [0. ],\n",
              "         [0. ],\n",
              "         [0. ],\n",
              "         [0. ],\n",
              "         [0. ],\n",
              "         [0. ],\n",
              "         [0. ],\n",
              "         [0. ]],\n",
              "\n",
              "        [[0. ],\n",
              "         [0. ],\n",
              "         [0. ],\n",
              "         [0. ],\n",
              "         [0. ],\n",
              "         [0. ],\n",
              "         [0. ],\n",
              "         [0. ],\n",
              "         [0. ],\n",
              "         [0. ],\n",
              "         [0. ],\n",
              "         [0. ],\n",
              "         [0. ],\n",
              "         [0. ]]]], dtype=float32)>"
            ]
          },
          "metadata": {},
          "execution_count": 17
        }
      ]
    },
    {
      "cell_type": "code",
      "source": [
        "tf.reshape( tf.nn.relu(conv1) , (14,14) )"
      ],
      "metadata": {
        "colab": {
          "base_uri": "https://localhost:8080/"
        },
        "id": "kafPI29PCUfS",
        "outputId": "9515b047-4956-4861-c59b-bc0220f3f71d"
      },
      "execution_count": 18,
      "outputs": [
        {
          "output_type": "execute_result",
          "data": {
            "text/plain": [
              "<tf.Tensor: shape=(14, 14), dtype=float32, numpy=\n",
              "array([[0. , 0. , 0. , 0. , 0. , 0. , 0. , 0. , 0. , 0. , 0. , 0. , 0. , 0. ],\n",
              "       [0. , 0. , 0. , 0. , 0. , 0. , 0. , 0. , 0. , 0. , 0. , 0. , 0. , 0. ],\n",
              "       [0. , 0. , 0. , 0. , 0. , 0. , 0. , 0. , 0. , 0. , 0. , 0. , 0. , 0. ],\n",
              "       [0. , 0. , 0. , 0. , 0. , 0. , 0. , 0. , 0. , 0. , 0. , 0. , 0. , 0. ],\n",
              "       [0. , 0. , 1. , 3. , 3.5, 2.7, 2.9, 3.7, 4. , 3.2, 1.4, 0.2, 0. , 0. ],\n",
              "       [0. , 0. , 0. , 0. , 0. , 0. , 0. , 0. , 0. , 0. , 0. , 0. , 0. , 0. ],\n",
              "       [0. , 0. , 0. , 0. , 0. , 0. , 0. , 0. , 0. , 0. , 0. , 0. , 0. , 0. ],\n",
              "       [0. , 0. , 0. , 0. , 0. , 0. , 0. , 0. , 0. , 0. , 0. , 0. , 0. , 0. ],\n",
              "       [0. , 0. , 0. , 0. , 0. , 0. , 0. , 0. , 0. , 0. , 0. , 0. , 0. , 0. ],\n",
              "       [0. , 0. , 0. , 0. , 0. , 0. , 0. , 0. , 0. , 0. , 0. , 0. , 0. , 0. ],\n",
              "       [0. , 0. , 0. , 0.9, 1.8, 0.9, 0. , 0. , 1. , 2. , 1. , 0. , 0. , 0. ],\n",
              "       [0. , 0. , 0. , 1. , 2. , 1. , 0. , 0. , 1. , 2. , 1. , 0. , 0. , 0. ],\n",
              "       [0. , 0. , 0. , 0. , 0. , 0. , 0. , 0. , 0. , 0. , 0. , 0. , 0. , 0. ],\n",
              "       [0. , 0. , 0. , 0. , 0. , 0. , 0. , 0. , 0. , 0. , 0. , 0. , 0. , 0. ]], dtype=float32)>"
            ]
          },
          "metadata": {},
          "execution_count": 18
        }
      ]
    },
    {
      "cell_type": "code",
      "source": [
        "plt.figure(figsize=(10,10))\n",
        "plt.imshow(\n",
        "   tf.reshape( tf.nn.relu(conv1) , (14,14) ) ,\n",
        "   cmap=\"Greys\"\n",
        ")"
      ],
      "metadata": {
        "colab": {
          "base_uri": "https://localhost:8080/",
          "height": 610
        },
        "id": "1TyBKELfCXKc",
        "outputId": "0b1a9f4a-9a11-49d6-c610-024b5d0b861d"
      },
      "execution_count": 19,
      "outputs": [
        {
          "output_type": "execute_result",
          "data": {
            "text/plain": [
              "<matplotlib.image.AxesImage at 0x7f20b8307a50>"
            ]
          },
          "metadata": {},
          "execution_count": 19
        },
        {
          "output_type": "display_data",
          "data": {
            "text/plain": [
              "<Figure size 720x720 with 1 Axes>"
            ],
            "image/png": "[encoded data removed]"
          },
          "metadata": {
            "needs_background": "light"
          }
        }
      ]
    },
    {
      "cell_type": "code",
      "source": [
        "conv1_relu = tf.nn.relu(conv1)"
      ],
      "metadata": {
        "id": "k3BnKATnCff0"
      },
      "execution_count": 20,
      "outputs": []
    },
    {
      "cell_type": "code",
      "source": [
        "conv1_relu"
      ],
      "metadata": {
        "colab": {
          "base_uri": "https://localhost:8080/"
        },
        "id": "BiMrcTHgCw8j",
        "outputId": "cdc66efd-0b78-4150-a4f1-fdcefdee5c97"
      },
      "execution_count": 21,
      "outputs": [
        {
          "output_type": "execute_result",
          "data": {
            "text/plain": [
              "<tf.Tensor: shape=(1, 14, 14, 1), dtype=float32, numpy=\n",
              "array([[[[0. ],\n",
              "         [0. ],\n",
              "         [0. ],\n",
              "         [0. ],\n",
              "         [0. ],\n",
              "         [0. ],\n",
              "         [0. ],\n",
              "         [0. ],\n",
              "         [0. ],\n",
              "         [0. ],\n",
              "         [0. ],\n",
              "         [0. ],\n",
              "         [0. ],\n",
              "         [0. ]],\n",
              "\n",
              "        [[0. ],\n",
              "         [0. ],\n",
              "         [0. ],\n",
              "         [0. ],\n",
              "         [0. ],\n",
              "         [0. ],\n",
              "         [0. ],\n",
              "         [0. ],\n",
              "         [0. ],\n",
              "         [0. ],\n",
              "         [0. ],\n",
              "         [0. ],\n",
              "         [0. ],\n",
              "         [0. ]],\n",
              "\n",
              "        [[0. ],\n",
              "         [0. ],\n",
              "         [0. ],\n",
              "         [0. ],\n",
              "         [0. ],\n",
              "         [0. ],\n",
              "         [0. ],\n",
              "         [0. ],\n",
              "         [0. ],\n",
              "         [0. ],\n",
              "         [0. ],\n",
              "         [0. ],\n",
              "         [0. ],\n",
              "         [0. ]],\n",
              "\n",
              "        [[0. ],\n",
              "         [0. ],\n",
              "         [0. ],\n",
              "         [0. ],\n",
              "         [0. ],\n",
              "         [0. ],\n",
              "         [0. ],\n",
              "         [0. ],\n",
              "         [0. ],\n",
              "         [0. ],\n",
              "         [0. ],\n",
              "         [0. ],\n",
              "         [0. ],\n",
              "         [0. ]],\n",
              "\n",
              "        [[0. ],\n",
              "         [0. ],\n",
              "         [1. ],\n",
              "         [3. ],\n",
              "         [3.5],\n",
              "         [2.7],\n",
              "         [2.9],\n",
              "         [3.7],\n",
              "         [4. ],\n",
              "         [3.2],\n",
              "         [1.4],\n",
              "         [0.2],\n",
              "         [0. ],\n",
              "         [0. ]],\n",
              "\n",
              "        [[0. ],\n",
              "         [0. ],\n",
              "         [0. ],\n",
              "         [0. ],\n",
              "         [0. ],\n",
              "         [0. ],\n",
              "         [0. ],\n",
              "         [0. ],\n",
              "         [0. ],\n",
              "         [0. ],\n",
              "         [0. ],\n",
              "         [0. ],\n",
              "         [0. ],\n",
              "         [0. ]],\n",
              "\n",
              "        [[0. ],\n",
              "         [0. ],\n",
              "         [0. ],\n",
              "         [0. ],\n",
              "         [0. ],\n",
              "         [0. ],\n",
              "         [0. ],\n",
              "         [0. ],\n",
              "         [0. ],\n",
              "         [0. ],\n",
              "         [0. ],\n",
              "         [0. ],\n",
              "         [0. ],\n",
              "         [0. ]],\n",
              "\n",
              "        [[0. ],\n",
              "         [0. ],\n",
              "         [0. ],\n",
              "         [0. ],\n",
              "         [0. ],\n",
              "         [0. ],\n",
              "         [0. ],\n",
              "         [0. ],\n",
              "         [0. ],\n",
              "         [0. ],\n",
              "         [0. ],\n",
              "         [0. ],\n",
              "         [0. ],\n",
              "         [0. ]],\n",
              "\n",
              "        [[0. ],\n",
              "         [0. ],\n",
              "         [0. ],\n",
              "         [0. ],\n",
              "         [0. ],\n",
              "         [0. ],\n",
              "         [0. ],\n",
              "         [0. ],\n",
              "         [0. ],\n",
              "         [0. ],\n",
              "         [0. ],\n",
              "         [0. ],\n",
              "         [0. ],\n",
              "         [0. ]],\n",
              "\n",
              "        [[0. ],\n",
              "         [0. ],\n",
              "         [0. ],\n",
              "         [0. ],\n",
              "         [0. ],\n",
              "         [0. ],\n",
              "         [0. ],\n",
              "         [0. ],\n",
              "         [0. ],\n",
              "         [0. ],\n",
              "         [0. ],\n",
              "         [0. ],\n",
              "         [0. ],\n",
              "         [0. ]],\n",
              "\n",
              "        [[0. ],\n",
              "         [0. ],\n",
              "         [0. ],\n",
              "         [0.9],\n",
              "         [1.8],\n",
              "         [0.9],\n",
              "         [0. ],\n",
              "         [0. ],\n",
              "         [1. ],\n",
              "         [2. ],\n",
              "         [1. ],\n",
              "         [0. ],\n",
              "         [0. ],\n",
              "         [0. ]],\n",
              "\n",
              "        [[0. ],\n",
              "         [0. ],\n",
              "         [0. ],\n",
              "         [1. ],\n",
              "         [2. ],\n",
              "         [1. ],\n",
              "         [0. ],\n",
              "         [0. ],\n",
              "         [1. ],\n",
              "         [2. ],\n",
              "         [1. ],\n",
              "         [0. ],\n",
              "         [0. ],\n",
              "         [0. ]],\n",
              "\n",
              "        [[0. ],\n",
              "         [0. ],\n",
              "         [0. ],\n",
              "         [0. ],\n",
              "         [0. ],\n",
              "         [0. ],\n",
              "         [0. ],\n",
              "         [0. ],\n",
              "         [0. ],\n",
              "         [0. ],\n",
              "         [0. ],\n",
              "         [0. ],\n",
              "         [0. ],\n",
              "         [0. ]],\n",
              "\n",
              "        [[0. ],\n",
              "         [0. ],\n",
              "         [0. ],\n",
              "         [0. ],\n",
              "         [0. ],\n",
              "         [0. ],\n",
              "         [0. ],\n",
              "         [0. ],\n",
              "         [0. ],\n",
              "         [0. ],\n",
              "         [0. ],\n",
              "         [0. ],\n",
              "         [0. ],\n",
              "         [0. ]]]], dtype=float32)>"
            ]
          },
          "metadata": {},
          "execution_count": 21
        }
      ]
    },
    {
      "cell_type": "code",
      "source": [
        "conv1_maxpool = tf.nn.max_pool(conv1_relu, ksize=2, strides=1, padding=\"SAME\")"
      ],
      "metadata": {
        "id": "01PgC-MWCzbg"
      },
      "execution_count": 22,
      "outputs": []
    },
    {
      "cell_type": "code",
      "source": [
        "conv1_maxpool"
      ],
      "metadata": {
        "colab": {
          "base_uri": "https://localhost:8080/"
        },
        "id": "x1dZfq7tERIP",
        "outputId": "9435e712-1951-4e16-ca13-d7729084578a"
      },
      "execution_count": 23,
      "outputs": [
        {
          "output_type": "execute_result",
          "data": {
            "text/plain": [
              "<tf.Tensor: shape=(1, 14, 14, 1), dtype=float32, numpy=\n",
              "array([[[[0. ],\n",
              "         [0. ],\n",
              "         [0. ],\n",
              "         [0. ],\n",
              "         [0. ],\n",
              "         [0. ],\n",
              "         [0. ],\n",
              "         [0. ],\n",
              "         [0. ],\n",
              "         [0. ],\n",
              "         [0. ],\n",
              "         [0. ],\n",
              "         [0. ],\n",
              "         [0. ]],\n",
              "\n",
              "        [[0. ],\n",
              "         [0. ],\n",
              "         [0. ],\n",
              "         [0. ],\n",
              "         [0. ],\n",
              "         [0. ],\n",
              "         [0. ],\n",
              "         [0. ],\n",
              "         [0. ],\n",
              "         [0. ],\n",
              "         [0. ],\n",
              "         [0. ],\n",
              "         [0. ],\n",
              "         [0. ]],\n",
              "\n",
              "        [[0. ],\n",
              "         [0. ],\n",
              "         [0. ],\n",
              "         [0. ],\n",
              "         [0. ],\n",
              "         [0. ],\n",
              "         [0. ],\n",
              "         [0. ],\n",
              "         [0. ],\n",
              "         [0. ],\n",
              "         [0. ],\n",
              "         [0. ],\n",
              "         [0. ],\n",
              "         [0. ]],\n",
              "\n",
              "        [[0. ],\n",
              "         [1. ],\n",
              "         [3. ],\n",
              "         [3.5],\n",
              "         [3.5],\n",
              "         [2.9],\n",
              "         [3.7],\n",
              "         [4. ],\n",
              "         [4. ],\n",
              "         [3.2],\n",
              "         [1.4],\n",
              "         [0.2],\n",
              "         [0. ],\n",
              "         [0. ]],\n",
              "\n",
              "        [[0. ],\n",
              "         [1. ],\n",
              "         [3. ],\n",
              "         [3.5],\n",
              "         [3.5],\n",
              "         [2.9],\n",
              "         [3.7],\n",
              "         [4. ],\n",
              "         [4. ],\n",
              "         [3.2],\n",
              "         [1.4],\n",
              "         [0.2],\n",
              "         [0. ],\n",
              "         [0. ]],\n",
              "\n",
              "        [[0. ],\n",
              "         [0. ],\n",
              "         [0. ],\n",
              "         [0. ],\n",
              "         [0. ],\n",
              "         [0. ],\n",
              "         [0. ],\n",
              "         [0. ],\n",
              "         [0. ],\n",
              "         [0. ],\n",
              "         [0. ],\n",
              "         [0. ],\n",
              "         [0. ],\n",
              "         [0. ]],\n",
              "\n",
              "        [[0. ],\n",
              "         [0. ],\n",
              "         [0. ],\n",
              "         [0. ],\n",
              "         [0. ],\n",
              "         [0. ],\n",
              "         [0. ],\n",
              "         [0. ],\n",
              "         [0. ],\n",
              "         [0. ],\n",
              "         [0. ],\n",
              "         [0. ],\n",
              "         [0. ],\n",
              "         [0. ]],\n",
              "\n",
              "        [[0. ],\n",
              "         [0. ],\n",
              "         [0. ],\n",
              "         [0. ],\n",
              "         [0. ],\n",
              "         [0. ],\n",
              "         [0. ],\n",
              "         [0. ],\n",
              "         [0. ],\n",
              "         [0. ],\n",
              "         [0. ],\n",
              "         [0. ],\n",
              "         [0. ],\n",
              "         [0. ]],\n",
              "\n",
              "        [[0. ],\n",
              "         [0. ],\n",
              "         [0. ],\n",
              "         [0. ],\n",
              "         [0. ],\n",
              "         [0. ],\n",
              "         [0. ],\n",
              "         [0. ],\n",
              "         [0. ],\n",
              "         [0. ],\n",
              "         [0. ],\n",
              "         [0. ],\n",
              "         [0. ],\n",
              "         [0. ]],\n",
              "\n",
              "        [[0. ],\n",
              "         [0. ],\n",
              "         [0.9],\n",
              "         [1.8],\n",
              "         [1.8],\n",
              "         [0.9],\n",
              "         [0. ],\n",
              "         [1. ],\n",
              "         [2. ],\n",
              "         [2. ],\n",
              "         [1. ],\n",
              "         [0. ],\n",
              "         [0. ],\n",
              "         [0. ]],\n",
              "\n",
              "        [[0. ],\n",
              "         [0. ],\n",
              "         [1. ],\n",
              "         [2. ],\n",
              "         [2. ],\n",
              "         [1. ],\n",
              "         [0. ],\n",
              "         [1. ],\n",
              "         [2. ],\n",
              "         [2. ],\n",
              "         [1. ],\n",
              "         [0. ],\n",
              "         [0. ],\n",
              "         [0. ]],\n",
              "\n",
              "        [[0. ],\n",
              "         [0. ],\n",
              "         [1. ],\n",
              "         [2. ],\n",
              "         [2. ],\n",
              "         [1. ],\n",
              "         [0. ],\n",
              "         [1. ],\n",
              "         [2. ],\n",
              "         [2. ],\n",
              "         [1. ],\n",
              "         [0. ],\n",
              "         [0. ],\n",
              "         [0. ]],\n",
              "\n",
              "        [[0. ],\n",
              "         [0. ],\n",
              "         [0. ],\n",
              "         [0. ],\n",
              "         [0. ],\n",
              "         [0. ],\n",
              "         [0. ],\n",
              "         [0. ],\n",
              "         [0. ],\n",
              "         [0. ],\n",
              "         [0. ],\n",
              "         [0. ],\n",
              "         [0. ],\n",
              "         [0. ]],\n",
              "\n",
              "        [[0. ],\n",
              "         [0. ],\n",
              "         [0. ],\n",
              "         [0. ],\n",
              "         [0. ],\n",
              "         [0. ],\n",
              "         [0. ],\n",
              "         [0. ],\n",
              "         [0. ],\n",
              "         [0. ],\n",
              "         [0. ],\n",
              "         [0. ],\n",
              "         [0. ],\n",
              "         [0. ]]]], dtype=float32)>"
            ]
          },
          "metadata": {},
          "execution_count": 23
        }
      ]
    },
    {
      "cell_type": "code",
      "source": [
        "tf.reshape( conv1_maxpool , (14,14) )"
      ],
      "metadata": {
        "colab": {
          "base_uri": "https://localhost:8080/"
        },
        "id": "1JEpEfVLES7y",
        "outputId": "33de28d7-cc83-484f-c354-d66b327bf2e6"
      },
      "execution_count": 24,
      "outputs": [
        {
          "output_type": "execute_result",
          "data": {
            "text/plain": [
              "<tf.Tensor: shape=(14, 14), dtype=float32, numpy=\n",
              "array([[0. , 0. , 0. , 0. , 0. , 0. , 0. , 0. , 0. , 0. , 0. , 0. , 0. , 0. ],\n",
              "       [0. , 0. , 0. , 0. , 0. , 0. , 0. , 0. , 0. , 0. , 0. , 0. , 0. , 0. ],\n",
              "       [0. , 0. , 0. , 0. , 0. , 0. , 0. , 0. , 0. , 0. , 0. , 0. , 0. , 0. ],\n",
              "       [0. , 1. , 3. , 3.5, 3.5, 2.9, 3.7, 4. , 4. , 3.2, 1.4, 0.2, 0. , 0. ],\n",
              "       [0. , 1. , 3. , 3.5, 3.5, 2.9, 3.7, 4. , 4. , 3.2, 1.4, 0.2, 0. , 0. ],\n",
              "       [0. , 0. , 0. , 0. , 0. , 0. , 0. , 0. , 0. , 0. , 0. , 0. , 0. , 0. ],\n",
              "       [0. , 0. , 0. , 0. , 0. , 0. , 0. , 0. , 0. , 0. , 0. , 0. , 0. , 0. ],\n",
              "       [0. , 0. , 0. , 0. , 0. , 0. , 0. , 0. , 0. , 0. , 0. , 0. , 0. , 0. ],\n",
              "       [0. , 0. , 0. , 0. , 0. , 0. , 0. , 0. , 0. , 0. , 0. , 0. , 0. , 0. ],\n",
              "       [0. , 0. , 0.9, 1.8, 1.8, 0.9, 0. , 1. , 2. , 2. , 1. , 0. , 0. , 0. ],\n",
              "       [0. , 0. , 1. , 2. , 2. , 1. , 0. , 1. , 2. , 2. , 1. , 0. , 0. , 0. ],\n",
              "       [0. , 0. , 1. , 2. , 2. , 1. , 0. , 1. , 2. , 2. , 1. , 0. , 0. , 0. ],\n",
              "       [0. , 0. , 0. , 0. , 0. , 0. , 0. , 0. , 0. , 0. , 0. , 0. , 0. , 0. ],\n",
              "       [0. , 0. , 0. , 0. , 0. , 0. , 0. , 0. , 0. , 0. , 0. , 0. , 0. , 0. ]], dtype=float32)>"
            ]
          },
          "metadata": {},
          "execution_count": 24
        }
      ]
    },
    {
      "cell_type": "code",
      "source": [
        "plt.figure(figsize=(10,10))\n",
        "plt.imshow(\n",
        "   tf.reshape( conv1_maxpool , (14,14) ) ,\n",
        "   cmap=\"Greys\"\n",
        ")"
      ],
      "metadata": {
        "colab": {
          "base_uri": "https://localhost:8080/",
          "height": 610
        },
        "id": "7B8Z1BHpEfmP",
        "outputId": "0883a90e-f022-46e2-abcd-5731dc9b724b"
      },
      "execution_count": 25,
      "outputs": [
        {
          "output_type": "execute_result",
          "data": {
            "text/plain": [
              "<matplotlib.image.AxesImage at 0x7f20b8280350>"
            ]
          },
          "metadata": {},
          "execution_count": 25
        },
        {
          "output_type": "display_data",
          "data": {
            "text/plain": [
              "<Figure size 720x720 with 1 Axes>"
            ],
            "image/png": "[encoded data removed]"
          },
          "metadata": {
            "needs_background": "light"
          }
        }
      ]
    },
    {
      "cell_type": "code",
      "source": [
        "w2 = np.array([\n",
        "    [1,0,1],\n",
        "    [2,0,-2],\n",
        "    [1,0,-1]\n",
        "], dtype=\"float32\")\n",
        "\n",
        "w2"
      ],
      "metadata": {
        "colab": {
          "base_uri": "https://localhost:8080/"
        },
        "id": "13GWgV4DEv-3",
        "outputId": "cd93efc4-a0bb-43e1-f032-8c6d99dd0c41"
      },
      "execution_count": 26,
      "outputs": [
        {
          "output_type": "execute_result",
          "data": {
            "text/plain": [
              "array([[ 1.,  0.,  1.],\n",
              "       [ 2.,  0., -2.],\n",
              "       [ 1.,  0., -1.]], dtype=float32)"
            ]
          },
          "metadata": {},
          "execution_count": 26
        }
      ]
    },
    {
      "cell_type": "code",
      "source": [
        "w2 = w2.reshape(3,3,1,1)\n",
        "w2"
      ],
      "metadata": {
        "colab": {
          "base_uri": "https://localhost:8080/"
        },
        "id": "ZLZt7pPsIyyP",
        "outputId": "be01081c-44bc-4da9-a131-42f1ad210da8"
      },
      "execution_count": 27,
      "outputs": [
        {
          "output_type": "execute_result",
          "data": {
            "text/plain": [
              "array([[[[ 1.]],\n",
              "\n",
              "        [[ 0.]],\n",
              "\n",
              "        [[ 1.]]],\n",
              "\n",
              "\n",
              "       [[[ 2.]],\n",
              "\n",
              "        [[ 0.]],\n",
              "\n",
              "        [[-2.]]],\n",
              "\n",
              "\n",
              "       [[[ 1.]],\n",
              "\n",
              "        [[ 0.]],\n",
              "\n",
              "        [[-1.]]]], dtype=float32)"
            ]
          },
          "metadata": {},
          "execution_count": 27
        }
      ]
    },
    {
      "cell_type": "code",
      "source": [
        "conv2 = tf.nn.conv2d(image1, w2, strides=1, padding='SAME')\n",
        "conv2 "
      ],
      "metadata": {
        "colab": {
          "base_uri": "https://localhost:8080/"
        },
        "id": "PdSmqSkKI5OP",
        "outputId": "30aea114-c4a1-4859-ae2a-3c4c2016dcb6"
      },
      "execution_count": 28,
      "outputs": [
        {
          "output_type": "execute_result",
          "data": {
            "text/plain": [
              "<tf.Tensor: shape=(1, 14, 14, 1), dtype=float32, numpy=\n",
              "array([[[[ 0. ],\n",
              "         [ 0. ],\n",
              "         [ 0. ],\n",
              "         [ 0. ],\n",
              "         [ 0. ],\n",
              "         [ 0. ],\n",
              "         [ 0. ],\n",
              "         [ 0. ],\n",
              "         [ 0. ],\n",
              "         [ 0. ],\n",
              "         [ 0. ],\n",
              "         [ 0. ],\n",
              "         [ 0. ],\n",
              "         [ 0. ]],\n",
              "\n",
              "        [[ 0. ],\n",
              "         [ 0. ],\n",
              "         [ 0. ],\n",
              "         [ 0. ],\n",
              "         [ 0. ],\n",
              "         [ 0. ],\n",
              "         [ 0. ],\n",
              "         [ 0. ],\n",
              "         [ 0. ],\n",
              "         [ 0. ],\n",
              "         [ 0. ],\n",
              "         [ 0. ],\n",
              "         [ 0. ],\n",
              "         [ 0. ]],\n",
              "\n",
              "        [[ 0. ],\n",
              "         [ 0. ],\n",
              "         [-1. ],\n",
              "         [-1. ],\n",
              "         [ 0.5],\n",
              "         [ 0.3],\n",
              "         [-0.5],\n",
              "         [-0.3],\n",
              "         [ 0. ],\n",
              "         [ 0.8],\n",
              "         [ 1. ],\n",
              "         [ 0.2],\n",
              "         [ 0. ],\n",
              "         [ 0. ]],\n",
              "\n",
              "        [[ 0. ],\n",
              "         [ 0. ],\n",
              "         [-2. ],\n",
              "         [-2. ],\n",
              "         [ 1. ],\n",
              "         [ 0.6],\n",
              "         [-1. ],\n",
              "         [-0.6],\n",
              "         [ 0. ],\n",
              "         [ 1.6],\n",
              "         [ 2. ],\n",
              "         [ 0.4],\n",
              "         [ 0. ],\n",
              "         [ 0. ]],\n",
              "\n",
              "        [[ 0. ],\n",
              "         [ 0. ],\n",
              "         [ 1. ],\n",
              "         [ 1. ],\n",
              "         [ 1.5],\n",
              "         [ 1.7],\n",
              "         [ 1.5],\n",
              "         [ 1.7],\n",
              "         [ 2. ],\n",
              "         [ 1.2],\n",
              "         [ 1. ],\n",
              "         [ 0.2],\n",
              "         [ 0. ],\n",
              "         [ 0. ]],\n",
              "\n",
              "        [[ 0. ],\n",
              "         [ 0. ],\n",
              "         [ 0. ],\n",
              "         [ 0. ],\n",
              "         [ 0. ],\n",
              "         [ 0. ],\n",
              "         [ 0. ],\n",
              "         [ 0. ],\n",
              "         [ 0. ],\n",
              "         [ 0. ],\n",
              "         [ 0. ],\n",
              "         [ 0. ],\n",
              "         [ 0. ],\n",
              "         [ 0. ]],\n",
              "\n",
              "        [[ 0. ],\n",
              "         [ 0. ],\n",
              "         [ 0. ],\n",
              "         [-0.5],\n",
              "         [ 0. ],\n",
              "         [ 0.5],\n",
              "         [ 0. ],\n",
              "         [ 0. ],\n",
              "         [-1. ],\n",
              "         [ 0. ],\n",
              "         [ 1. ],\n",
              "         [ 0. ],\n",
              "         [ 0. ],\n",
              "         [ 0. ]],\n",
              "\n",
              "        [[ 0. ],\n",
              "         [ 0. ],\n",
              "         [ 0. ],\n",
              "         [-1.4],\n",
              "         [ 0. ],\n",
              "         [ 1.4],\n",
              "         [ 0. ],\n",
              "         [ 0. ],\n",
              "         [-3. ],\n",
              "         [ 0. ],\n",
              "         [ 3. ],\n",
              "         [ 0. ],\n",
              "         [ 0. ],\n",
              "         [ 0. ]],\n",
              "\n",
              "        [[ 0. ],\n",
              "         [ 0. ],\n",
              "         [ 0. ],\n",
              "         [-1.2],\n",
              "         [ 0. ],\n",
              "         [ 2.2],\n",
              "         [ 0. ],\n",
              "         [ 0. ],\n",
              "         [-2. ],\n",
              "         [ 0. ],\n",
              "         [ 4. ],\n",
              "         [ 0. ],\n",
              "         [ 0. ],\n",
              "         [ 0. ]],\n",
              "\n",
              "        [[ 0. ],\n",
              "         [ 0. ],\n",
              "         [ 0. ],\n",
              "         [-2.4],\n",
              "         [ 0. ],\n",
              "         [ 3.2],\n",
              "         [ 0. ],\n",
              "         [ 0. ],\n",
              "         [-2. ],\n",
              "         [ 0. ],\n",
              "         [ 4. ],\n",
              "         [ 0. ],\n",
              "         [ 0. ],\n",
              "         [ 0. ]],\n",
              "\n",
              "        [[ 0. ],\n",
              "         [ 0. ],\n",
              "         [ 0. ],\n",
              "         [-1.1],\n",
              "         [ 0. ],\n",
              "         [ 2.9],\n",
              "         [ 0. ],\n",
              "         [ 0. ],\n",
              "         [-1. ],\n",
              "         [ 0. ],\n",
              "         [ 3. ],\n",
              "         [ 0. ],\n",
              "         [ 0. ],\n",
              "         [ 0. ]],\n",
              "\n",
              "        [[ 0. ],\n",
              "         [ 0. ],\n",
              "         [ 0. ],\n",
              "         [ 1. ],\n",
              "         [ 0. ],\n",
              "         [ 1. ],\n",
              "         [ 0. ],\n",
              "         [ 0. ],\n",
              "         [ 1. ],\n",
              "         [ 0. ],\n",
              "         [ 1. ],\n",
              "         [ 0. ],\n",
              "         [ 0. ],\n",
              "         [ 0. ]],\n",
              "\n",
              "        [[ 0. ],\n",
              "         [ 0. ],\n",
              "         [ 0. ],\n",
              "         [ 0. ],\n",
              "         [ 0. ],\n",
              "         [ 0. ],\n",
              "         [ 0. ],\n",
              "         [ 0. ],\n",
              "         [ 0. ],\n",
              "         [ 0. ],\n",
              "         [ 0. ],\n",
              "         [ 0. ],\n",
              "         [ 0. ],\n",
              "         [ 0. ]],\n",
              "\n",
              "        [[ 0. ],\n",
              "         [ 0. ],\n",
              "         [ 0. ],\n",
              "         [ 0. ],\n",
              "         [ 0. ],\n",
              "         [ 0. ],\n",
              "         [ 0. ],\n",
              "         [ 0. ],\n",
              "         [ 0. ],\n",
              "         [ 0. ],\n",
              "         [ 0. ],\n",
              "         [ 0. ],\n",
              "         [ 0. ],\n",
              "         [ 0. ]]]], dtype=float32)>"
            ]
          },
          "metadata": {},
          "execution_count": 28
        }
      ]
    },
    {
      "cell_type": "code",
      "source": [
        "conv2.shape"
      ],
      "metadata": {
        "colab": {
          "base_uri": "https://localhost:8080/"
        },
        "id": "1KGpyltjJKg_",
        "outputId": "60f353ff-a203-45a1-92d5-714b115949e1"
      },
      "execution_count": 29,
      "outputs": [
        {
          "output_type": "execute_result",
          "data": {
            "text/plain": [
              "TensorShape([1, 14, 14, 1])"
            ]
          },
          "metadata": {},
          "execution_count": 29
        }
      ]
    },
    {
      "cell_type": "code",
      "source": [
        "tf.reshape(conv2, (14,14))"
      ],
      "metadata": {
        "colab": {
          "base_uri": "https://localhost:8080/"
        },
        "id": "rbkgkY4JJObM",
        "outputId": "6d7d7e89-9d55-48f0-aa0e-45b915dfa08b"
      },
      "execution_count": 30,
      "outputs": [
        {
          "output_type": "execute_result",
          "data": {
            "text/plain": [
              "<tf.Tensor: shape=(14, 14), dtype=float32, numpy=\n",
              "array([[ 0. ,  0. ,  0. ,  0. ,  0. ,  0. ,  0. ,  0. ,  0. ,  0. ,  0. ,  0. ,  0. ,  0. ],\n",
              "       [ 0. ,  0. ,  0. ,  0. ,  0. ,  0. ,  0. ,  0. ,  0. ,  0. ,  0. ,  0. ,  0. ,  0. ],\n",
              "       [ 0. ,  0. , -1. , -1. ,  0.5,  0.3, -0.5, -0.3,  0. ,  0.8,  1. ,  0.2,  0. ,  0. ],\n",
              "       [ 0. ,  0. , -2. , -2. ,  1. ,  0.6, -1. , -0.6,  0. ,  1.6,  2. ,  0.4,  0. ,  0. ],\n",
              "       [ 0. ,  0. ,  1. ,  1. ,  1.5,  1.7,  1.5,  1.7,  2. ,  1.2,  1. ,  0.2,  0. ,  0. ],\n",
              "       [ 0. ,  0. ,  0. ,  0. ,  0. ,  0. ,  0. ,  0. ,  0. ,  0. ,  0. ,  0. ,  0. ,  0. ],\n",
              "       [ 0. ,  0. ,  0. , -0.5,  0. ,  0.5,  0. ,  0. , -1. ,  0. ,  1. ,  0. ,  0. ,  0. ],\n",
              "       [ 0. ,  0. ,  0. , -1.4,  0. ,  1.4,  0. ,  0. , -3. ,  0. ,  3. ,  0. ,  0. ,  0. ],\n",
              "       [ 0. ,  0. ,  0. , -1.2,  0. ,  2.2,  0. ,  0. , -2. ,  0. ,  4. ,  0. ,  0. ,  0. ],\n",
              "       [ 0. ,  0. ,  0. , -2.4,  0. ,  3.2,  0. ,  0. , -2. ,  0. ,  4. ,  0. ,  0. ,  0. ],\n",
              "       [ 0. ,  0. ,  0. , -1.1,  0. ,  2.9,  0. ,  0. , -1. ,  0. ,  3. ,  0. ,  0. ,  0. ],\n",
              "       [ 0. ,  0. ,  0. ,  1. ,  0. ,  1. ,  0. ,  0. ,  1. ,  0. ,  1. ,  0. ,  0. ,  0. ],\n",
              "       [ 0. ,  0. ,  0. ,  0. ,  0. ,  0. ,  0. ,  0. ,  0. ,  0. ,  0. ,  0. ,  0. ,  0. ],\n",
              "       [ 0. ,  0. ,  0. ,  0. ,  0. ,  0. ,  0. ,  0. ,  0. ,  0. ,  0. ,  0. ,  0. ,  0. ]], dtype=float32)>"
            ]
          },
          "metadata": {},
          "execution_count": 30
        }
      ]
    },
    {
      "cell_type": "code",
      "source": [
        "plt.figure(figsize=(10,10))\n",
        "plt.imshow(tf.reshape(conv2, (14,14)), cmap=\"Greys\") # 수직 합성곱"
      ],
      "metadata": {
        "colab": {
          "base_uri": "https://localhost:8080/",
          "height": 610
        },
        "id": "c__FiOjfJVrn",
        "outputId": "fef5e896-3643-4670-c3b1-39bdc6c076ff"
      },
      "execution_count": 31,
      "outputs": [
        {
          "output_type": "execute_result",
          "data": {
            "text/plain": [
              "<matplotlib.image.AxesImage at 0x7f20b81f7090>"
            ]
          },
          "metadata": {},
          "execution_count": 31
        },
        {
          "output_type": "display_data",
          "data": {
            "text/plain": [
              "<Figure size 720x720 with 1 Axes>"
            ],
            "image/png": "[encoded data removed]"
          },
          "metadata": {
            "needs_background": "light"
          }
        }
      ]
    },
    {
      "cell_type": "code",
      "source": [
        "conv2_relu = tf.nn.relu(conv2)"
      ],
      "metadata": {
        "id": "EfAp9tqiJg4N"
      },
      "execution_count": 32,
      "outputs": []
    },
    {
      "cell_type": "code",
      "source": [
        "conv2_relu"
      ],
      "metadata": {
        "colab": {
          "base_uri": "https://localhost:8080/"
        },
        "id": "-3CigqhQJ4km",
        "outputId": "8a10fa92-bea2-42fd-c7d2-ef6a9b5c47cf"
      },
      "execution_count": 33,
      "outputs": [
        {
          "output_type": "execute_result",
          "data": {
            "text/plain": [
              "<tf.Tensor: shape=(1, 14, 14, 1), dtype=float32, numpy=\n",
              "array([[[[0. ],\n",
              "         [0. ],\n",
              "         [0. ],\n",
              "         [0. ],\n",
              "         [0. ],\n",
              "         [0. ],\n",
              "         [0. ],\n",
              "         [0. ],\n",
              "         [0. ],\n",
              "         [0. ],\n",
              "         [0. ],\n",
              "         [0. ],\n",
              "         [0. ],\n",
              "         [0. ]],\n",
              "\n",
              "        [[0. ],\n",
              "         [0. ],\n",
              "         [0. ],\n",
              "         [0. ],\n",
              "         [0. ],\n",
              "         [0. ],\n",
              "         [0. ],\n",
              "         [0. ],\n",
              "         [0. ],\n",
              "         [0. ],\n",
              "         [0. ],\n",
              "         [0. ],\n",
              "         [0. ],\n",
              "         [0. ]],\n",
              "\n",
              "        [[0. ],\n",
              "         [0. ],\n",
              "         [0. ],\n",
              "         [0. ],\n",
              "         [0.5],\n",
              "         [0.3],\n",
              "         [0. ],\n",
              "         [0. ],\n",
              "         [0. ],\n",
              "         [0.8],\n",
              "         [1. ],\n",
              "         [0.2],\n",
              "         [0. ],\n",
              "         [0. ]],\n",
              "\n",
              "        [[0. ],\n",
              "         [0. ],\n",
              "         [0. ],\n",
              "         [0. ],\n",
              "         [1. ],\n",
              "         [0.6],\n",
              "         [0. ],\n",
              "         [0. ],\n",
              "         [0. ],\n",
              "         [1.6],\n",
              "         [2. ],\n",
              "         [0.4],\n",
              "         [0. ],\n",
              "         [0. ]],\n",
              "\n",
              "        [[0. ],\n",
              "         [0. ],\n",
              "         [1. ],\n",
              "         [1. ],\n",
              "         [1.5],\n",
              "         [1.7],\n",
              "         [1.5],\n",
              "         [1.7],\n",
              "         [2. ],\n",
              "         [1.2],\n",
              "         [1. ],\n",
              "         [0.2],\n",
              "         [0. ],\n",
              "         [0. ]],\n",
              "\n",
              "        [[0. ],\n",
              "         [0. ],\n",
              "         [0. ],\n",
              "         [0. ],\n",
              "         [0. ],\n",
              "         [0. ],\n",
              "         [0. ],\n",
              "         [0. ],\n",
              "         [0. ],\n",
              "         [0. ],\n",
              "         [0. ],\n",
              "         [0. ],\n",
              "         [0. ],\n",
              "         [0. ]],\n",
              "\n",
              "        [[0. ],\n",
              "         [0. ],\n",
              "         [0. ],\n",
              "         [0. ],\n",
              "         [0. ],\n",
              "         [0.5],\n",
              "         [0. ],\n",
              "         [0. ],\n",
              "         [0. ],\n",
              "         [0. ],\n",
              "         [1. ],\n",
              "         [0. ],\n",
              "         [0. ],\n",
              "         [0. ]],\n",
              "\n",
              "        [[0. ],\n",
              "         [0. ],\n",
              "         [0. ],\n",
              "         [0. ],\n",
              "         [0. ],\n",
              "         [1.4],\n",
              "         [0. ],\n",
              "         [0. ],\n",
              "         [0. ],\n",
              "         [0. ],\n",
              "         [3. ],\n",
              "         [0. ],\n",
              "         [0. ],\n",
              "         [0. ]],\n",
              "\n",
              "        [[0. ],\n",
              "         [0. ],\n",
              "         [0. ],\n",
              "         [0. ],\n",
              "         [0. ],\n",
              "         [2.2],\n",
              "         [0. ],\n",
              "         [0. ],\n",
              "         [0. ],\n",
              "         [0. ],\n",
              "         [4. ],\n",
              "         [0. ],\n",
              "         [0. ],\n",
              "         [0. ]],\n",
              "\n",
              "        [[0. ],\n",
              "         [0. ],\n",
              "         [0. ],\n",
              "         [0. ],\n",
              "         [0. ],\n",
              "         [3.2],\n",
              "         [0. ],\n",
              "         [0. ],\n",
              "         [0. ],\n",
              "         [0. ],\n",
              "         [4. ],\n",
              "         [0. ],\n",
              "         [0. ],\n",
              "         [0. ]],\n",
              "\n",
              "        [[0. ],\n",
              "         [0. ],\n",
              "         [0. ],\n",
              "         [0. ],\n",
              "         [0. ],\n",
              "         [2.9],\n",
              "         [0. ],\n",
              "         [0. ],\n",
              "         [0. ],\n",
              "         [0. ],\n",
              "         [3. ],\n",
              "         [0. ],\n",
              "         [0. ],\n",
              "         [0. ]],\n",
              "\n",
              "        [[0. ],\n",
              "         [0. ],\n",
              "         [0. ],\n",
              "         [1. ],\n",
              "         [0. ],\n",
              "         [1. ],\n",
              "         [0. ],\n",
              "         [0. ],\n",
              "         [1. ],\n",
              "         [0. ],\n",
              "         [1. ],\n",
              "         [0. ],\n",
              "         [0. ],\n",
              "         [0. ]],\n",
              "\n",
              "        [[0. ],\n",
              "         [0. ],\n",
              "         [0. ],\n",
              "         [0. ],\n",
              "         [0. ],\n",
              "         [0. ],\n",
              "         [0. ],\n",
              "         [0. ],\n",
              "         [0. ],\n",
              "         [0. ],\n",
              "         [0. ],\n",
              "         [0. ],\n",
              "         [0. ],\n",
              "         [0. ]],\n",
              "\n",
              "        [[0. ],\n",
              "         [0. ],\n",
              "         [0. ],\n",
              "         [0. ],\n",
              "         [0. ],\n",
              "         [0. ],\n",
              "         [0. ],\n",
              "         [0. ],\n",
              "         [0. ],\n",
              "         [0. ],\n",
              "         [0. ],\n",
              "         [0. ],\n",
              "         [0. ],\n",
              "         [0. ]]]], dtype=float32)>"
            ]
          },
          "metadata": {},
          "execution_count": 33
        }
      ]
    },
    {
      "cell_type": "code",
      "source": [
        "tf.reshape(conv2_relu, (14,14))"
      ],
      "metadata": {
        "colab": {
          "base_uri": "https://localhost:8080/"
        },
        "id": "rZPjzm9qJ59S",
        "outputId": "55afca02-7b7a-4c4c-9d6d-24c733e899b5"
      },
      "execution_count": 34,
      "outputs": [
        {
          "output_type": "execute_result",
          "data": {
            "text/plain": [
              "<tf.Tensor: shape=(14, 14), dtype=float32, numpy=\n",
              "array([[0. , 0. , 0. , 0. , 0. , 0. , 0. , 0. , 0. , 0. , 0. , 0. , 0. , 0. ],\n",
              "       [0. , 0. , 0. , 0. , 0. , 0. , 0. , 0. , 0. , 0. , 0. , 0. , 0. , 0. ],\n",
              "       [0. , 0. , 0. , 0. , 0.5, 0.3, 0. , 0. , 0. , 0.8, 1. , 0.2, 0. , 0. ],\n",
              "       [0. , 0. , 0. , 0. , 1. , 0.6, 0. , 0. , 0. , 1.6, 2. , 0.4, 0. , 0. ],\n",
              "       [0. , 0. , 1. , 1. , 1.5, 1.7, 1.5, 1.7, 2. , 1.2, 1. , 0.2, 0. , 0. ],\n",
              "       [0. , 0. , 0. , 0. , 0. , 0. , 0. , 0. , 0. , 0. , 0. , 0. , 0. , 0. ],\n",
              "       [0. , 0. , 0. , 0. , 0. , 0.5, 0. , 0. , 0. , 0. , 1. , 0. , 0. , 0. ],\n",
              "       [0. , 0. , 0. , 0. , 0. , 1.4, 0. , 0. , 0. , 0. , 3. , 0. , 0. , 0. ],\n",
              "       [0. , 0. , 0. , 0. , 0. , 2.2, 0. , 0. , 0. , 0. , 4. , 0. , 0. , 0. ],\n",
              "       [0. , 0. , 0. , 0. , 0. , 3.2, 0. , 0. , 0. , 0. , 4. , 0. , 0. , 0. ],\n",
              "       [0. , 0. , 0. , 0. , 0. , 2.9, 0. , 0. , 0. , 0. , 3. , 0. , 0. , 0. ],\n",
              "       [0. , 0. , 0. , 1. , 0. , 1. , 0. , 0. , 1. , 0. , 1. , 0. , 0. , 0. ],\n",
              "       [0. , 0. , 0. , 0. , 0. , 0. , 0. , 0. , 0. , 0. , 0. , 0. , 0. , 0. ],\n",
              "       [0. , 0. , 0. , 0. , 0. , 0. , 0. , 0. , 0. , 0. , 0. , 0. , 0. , 0. ]], dtype=float32)>"
            ]
          },
          "metadata": {},
          "execution_count": 34
        }
      ]
    },
    {
      "cell_type": "code",
      "source": [
        "plt.figure(figsize=(10,10))\n",
        "plt.imshow(tf.reshape(conv2_relu, (14,14)), cmap=\"Greys\") "
      ],
      "metadata": {
        "colab": {
          "base_uri": "https://localhost:8080/",
          "height": 610
        },
        "id": "r1yDBOagKCgl",
        "outputId": "a033e5ee-3b94-4bdd-d58e-da5c98b4af0e"
      },
      "execution_count": 35,
      "outputs": [
        {
          "output_type": "execute_result",
          "data": {
            "text/plain": [
              "<matplotlib.image.AxesImage at 0x7f20b81718d0>"
            ]
          },
          "metadata": {},
          "execution_count": 35
        },
        {
          "output_type": "display_data",
          "data": {
            "text/plain": [
              "<Figure size 720x720 with 1 Axes>"
            ],
            "image/png": "[encoded data removed]"
          },
          "metadata": {
            "needs_background": "light"
          }
        }
      ]
    },
    {
      "cell_type": "code",
      "source": [
        "# 2줄 2칸씩 그룹을 만들어 1칸씩 이동하며 최대값 리턴\n",
        "conv2_maxpool = tf.nn.max_pool(conv2_relu, ksize=2, strides=1, padding=\"SAME\")"
      ],
      "metadata": {
        "id": "562R5zAJKKxN"
      },
      "execution_count": 36,
      "outputs": []
    },
    {
      "cell_type": "code",
      "source": [
        "conv2_maxpool"
      ],
      "metadata": {
        "colab": {
          "base_uri": "https://localhost:8080/"
        },
        "id": "ZzdjiuZxKUgW",
        "outputId": "4a8eedbd-29d1-440c-e6f6-f5c0ef45d4c9"
      },
      "execution_count": 37,
      "outputs": [
        {
          "output_type": "execute_result",
          "data": {
            "text/plain": [
              "<tf.Tensor: shape=(1, 14, 14, 1), dtype=float32, numpy=\n",
              "array([[[[0. ],\n",
              "         [0. ],\n",
              "         [0. ],\n",
              "         [0. ],\n",
              "         [0. ],\n",
              "         [0. ],\n",
              "         [0. ],\n",
              "         [0. ],\n",
              "         [0. ],\n",
              "         [0. ],\n",
              "         [0. ],\n",
              "         [0. ],\n",
              "         [0. ],\n",
              "         [0. ]],\n",
              "\n",
              "        [[0. ],\n",
              "         [0. ],\n",
              "         [0. ],\n",
              "         [0.5],\n",
              "         [0.5],\n",
              "         [0.3],\n",
              "         [0. ],\n",
              "         [0. ],\n",
              "         [0.8],\n",
              "         [1. ],\n",
              "         [1. ],\n",
              "         [0.2],\n",
              "         [0. ],\n",
              "         [0. ]],\n",
              "\n",
              "        [[0. ],\n",
              "         [0. ],\n",
              "         [0. ],\n",
              "         [1. ],\n",
              "         [1. ],\n",
              "         [0.6],\n",
              "         [0. ],\n",
              "         [0. ],\n",
              "         [1.6],\n",
              "         [2. ],\n",
              "         [2. ],\n",
              "         [0.4],\n",
              "         [0. ],\n",
              "         [0. ]],\n",
              "\n",
              "        [[0. ],\n",
              "         [1. ],\n",
              "         [1. ],\n",
              "         [1.5],\n",
              "         [1.7],\n",
              "         [1.7],\n",
              "         [1.7],\n",
              "         [2. ],\n",
              "         [2. ],\n",
              "         [2. ],\n",
              "         [2. ],\n",
              "         [0.4],\n",
              "         [0. ],\n",
              "         [0. ]],\n",
              "\n",
              "        [[0. ],\n",
              "         [1. ],\n",
              "         [1. ],\n",
              "         [1.5],\n",
              "         [1.7],\n",
              "         [1.7],\n",
              "         [1.7],\n",
              "         [2. ],\n",
              "         [2. ],\n",
              "         [1.2],\n",
              "         [1. ],\n",
              "         [0.2],\n",
              "         [0. ],\n",
              "         [0. ]],\n",
              "\n",
              "        [[0. ],\n",
              "         [0. ],\n",
              "         [0. ],\n",
              "         [0. ],\n",
              "         [0.5],\n",
              "         [0.5],\n",
              "         [0. ],\n",
              "         [0. ],\n",
              "         [0. ],\n",
              "         [1. ],\n",
              "         [1. ],\n",
              "         [0. ],\n",
              "         [0. ],\n",
              "         [0. ]],\n",
              "\n",
              "        [[0. ],\n",
              "         [0. ],\n",
              "         [0. ],\n",
              "         [0. ],\n",
              "         [1.4],\n",
              "         [1.4],\n",
              "         [0. ],\n",
              "         [0. ],\n",
              "         [0. ],\n",
              "         [3. ],\n",
              "         [3. ],\n",
              "         [0. ],\n",
              "         [0. ],\n",
              "         [0. ]],\n",
              "\n",
              "        [[0. ],\n",
              "         [0. ],\n",
              "         [0. ],\n",
              "         [0. ],\n",
              "         [2.2],\n",
              "         [2.2],\n",
              "         [0. ],\n",
              "         [0. ],\n",
              "         [0. ],\n",
              "         [4. ],\n",
              "         [4. ],\n",
              "         [0. ],\n",
              "         [0. ],\n",
              "         [0. ]],\n",
              "\n",
              "        [[0. ],\n",
              "         [0. ],\n",
              "         [0. ],\n",
              "         [0. ],\n",
              "         [3.2],\n",
              "         [3.2],\n",
              "         [0. ],\n",
              "         [0. ],\n",
              "         [0. ],\n",
              "         [4. ],\n",
              "         [4. ],\n",
              "         [0. ],\n",
              "         [0. ],\n",
              "         [0. ]],\n",
              "\n",
              "        [[0. ],\n",
              "         [0. ],\n",
              "         [0. ],\n",
              "         [0. ],\n",
              "         [3.2],\n",
              "         [3.2],\n",
              "         [0. ],\n",
              "         [0. ],\n",
              "         [0. ],\n",
              "         [4. ],\n",
              "         [4. ],\n",
              "         [0. ],\n",
              "         [0. ],\n",
              "         [0. ]],\n",
              "\n",
              "        [[0. ],\n",
              "         [0. ],\n",
              "         [1. ],\n",
              "         [1. ],\n",
              "         [2.9],\n",
              "         [2.9],\n",
              "         [0. ],\n",
              "         [1. ],\n",
              "         [1. ],\n",
              "         [3. ],\n",
              "         [3. ],\n",
              "         [0. ],\n",
              "         [0. ],\n",
              "         [0. ]],\n",
              "\n",
              "        [[0. ],\n",
              "         [0. ],\n",
              "         [1. ],\n",
              "         [1. ],\n",
              "         [1. ],\n",
              "         [1. ],\n",
              "         [0. ],\n",
              "         [1. ],\n",
              "         [1. ],\n",
              "         [1. ],\n",
              "         [1. ],\n",
              "         [0. ],\n",
              "         [0. ],\n",
              "         [0. ]],\n",
              "\n",
              "        [[0. ],\n",
              "         [0. ],\n",
              "         [0. ],\n",
              "         [0. ],\n",
              "         [0. ],\n",
              "         [0. ],\n",
              "         [0. ],\n",
              "         [0. ],\n",
              "         [0. ],\n",
              "         [0. ],\n",
              "         [0. ],\n",
              "         [0. ],\n",
              "         [0. ],\n",
              "         [0. ]],\n",
              "\n",
              "        [[0. ],\n",
              "         [0. ],\n",
              "         [0. ],\n",
              "         [0. ],\n",
              "         [0. ],\n",
              "         [0. ],\n",
              "         [0. ],\n",
              "         [0. ],\n",
              "         [0. ],\n",
              "         [0. ],\n",
              "         [0. ],\n",
              "         [0. ],\n",
              "         [0. ],\n",
              "         [0. ]]]], dtype=float32)>"
            ]
          },
          "metadata": {},
          "execution_count": 37
        }
      ]
    },
    {
      "cell_type": "code",
      "source": [
        "tf.reshape( conv2_maxpool, (14,14))"
      ],
      "metadata": {
        "colab": {
          "base_uri": "https://localhost:8080/"
        },
        "id": "SEOcmDovKWEZ",
        "outputId": "b408d5f8-82da-4bcd-d1cc-96f236f16a80"
      },
      "execution_count": 38,
      "outputs": [
        {
          "output_type": "execute_result",
          "data": {
            "text/plain": [
              "<tf.Tensor: shape=(14, 14), dtype=float32, numpy=\n",
              "array([[0. , 0. , 0. , 0. , 0. , 0. , 0. , 0. , 0. , 0. , 0. , 0. , 0. , 0. ],\n",
              "       [0. , 0. , 0. , 0.5, 0.5, 0.3, 0. , 0. , 0.8, 1. , 1. , 0.2, 0. , 0. ],\n",
              "       [0. , 0. , 0. , 1. , 1. , 0.6, 0. , 0. , 1.6, 2. , 2. , 0.4, 0. , 0. ],\n",
              "       [0. , 1. , 1. , 1.5, 1.7, 1.7, 1.7, 2. , 2. , 2. , 2. , 0.4, 0. , 0. ],\n",
              "       [0. , 1. , 1. , 1.5, 1.7, 1.7, 1.7, 2. , 2. , 1.2, 1. , 0.2, 0. , 0. ],\n",
              "       [0. , 0. , 0. , 0. , 0.5, 0.5, 0. , 0. , 0. , 1. , 1. , 0. , 0. , 0. ],\n",
              "       [0. , 0. , 0. , 0. , 1.4, 1.4, 0. , 0. , 0. , 3. , 3. , 0. , 0. , 0. ],\n",
              "       [0. , 0. , 0. , 0. , 2.2, 2.2, 0. , 0. , 0. , 4. , 4. , 0. , 0. , 0. ],\n",
              "       [0. , 0. , 0. , 0. , 3.2, 3.2, 0. , 0. , 0. , 4. , 4. , 0. , 0. , 0. ],\n",
              "       [0. , 0. , 0. , 0. , 3.2, 3.2, 0. , 0. , 0. , 4. , 4. , 0. , 0. , 0. ],\n",
              "       [0. , 0. , 1. , 1. , 2.9, 2.9, 0. , 1. , 1. , 3. , 3. , 0. , 0. , 0. ],\n",
              "       [0. , 0. , 1. , 1. , 1. , 1. , 0. , 1. , 1. , 1. , 1. , 0. , 0. , 0. ],\n",
              "       [0. , 0. , 0. , 0. , 0. , 0. , 0. , 0. , 0. , 0. , 0. , 0. , 0. , 0. ],\n",
              "       [0. , 0. , 0. , 0. , 0. , 0. , 0. , 0. , 0. , 0. , 0. , 0. , 0. , 0. ]], dtype=float32)>"
            ]
          },
          "metadata": {},
          "execution_count": 38
        }
      ]
    },
    {
      "cell_type": "code",
      "source": [
        "plt.figure(figsize=(10,10))\n",
        "plt.imshow(tf.reshape(conv2_maxpool, (14,14)), cmap=\"Greys\") "
      ],
      "metadata": {
        "colab": {
          "base_uri": "https://localhost:8080/",
          "height": 610
        },
        "id": "cjP__eEAKhfr",
        "outputId": "787ffc2d-f6c7-45d3-a011-638b94eabb0b"
      },
      "execution_count": 39,
      "outputs": [
        {
          "output_type": "execute_result",
          "data": {
            "text/plain": [
              "<matplotlib.image.AxesImage at 0x7f20b80ee190>"
            ]
          },
          "metadata": {},
          "execution_count": 39
        },
        {
          "output_type": "display_data",
          "data": {
            "text/plain": [
              "<Figure size 720x720 with 1 Axes>"
            ],
            "image/png": "[encoded data removed]"
          },
          "metadata": {
            "needs_background": "light"
          }
        }
      ]
    },
    {
      "cell_type": "code",
      "source": [],
      "metadata": {
        "id": "PvigUcuEKoGw"
      },
      "execution_count": null,
      "outputs": []
    }
  ]
}