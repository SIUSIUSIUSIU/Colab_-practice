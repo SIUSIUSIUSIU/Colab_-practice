{
  "nbformat": 4,
  "nbformat_minor": 0,
  "metadata": {
    "colab": {
      "name": "20220825 인공신경망(텐서플로 2.x).ipynb",
      "provenance": [],
      "authorship_tag": "ABX9TyMDmkQ8tMMcNmzdYlb6atIB",
      "include_colab_link": true
    },
    "kernelspec": {
      "name": "python3",
      "display_name": "Python 3"
    },
    "language_info": {
      "name": "python"
    }
  },
  "cells": [
    {
      "cell_type": "markdown",
      "metadata": {
        "id": "view-in-github",
        "colab_type": "text"
      },
      "source": [
        "<a href=\"https://colab.research.google.com/github/SIUSIUSIUSIU/Colab_-practice/blob/main/20220825_%EC%9D%B8%EA%B3%B5%EC%8B%A0%EA%B2%BD%EB%A7%9D(%ED%85%90%EC%84%9C%ED%94%8C%EB%A1%9C_2_x).ipynb\" target=\"_parent\"><img src=\"https://colab.research.google.com/assets/colab-badge.svg\" alt=\"Open In Colab\"/></a>"
      ]
    },
    {
      "cell_type": "code",
      "execution_count": 1,
      "metadata": {
        "id": "VrhvMAD-x1Rv"
      },
      "outputs": [],
      "source": [
        "import tensorflow as tf\n",
        "from tensorflow.keras.models import Sequential\n",
        "from tensorflow.keras.layers import Dense\n",
        "from tensorflow.keras.optimizers import Adam\n",
        "import numpy as np"
      ]
    },
    {
      "cell_type": "code",
      "source": [
        "X= np.array([\n",
        "    [0,0],\n",
        "    [0,1],\n",
        "    [1,0],\n",
        "    [1,1]\n",
        "], dtype=\"float32\")\n",
        "\n",
        "y= np.array([0,0,0,1], dtype=\"float32\")"
      ],
      "metadata": {
        "id": "lNxcRob94Brz"
      },
      "execution_count": 5,
      "outputs": []
    },
    {
      "cell_type": "code",
      "source": [
        "X"
      ],
      "metadata": {
        "colab": {
          "base_uri": "https://localhost:8080/"
        },
        "id": "9ppK2GYA4gxS",
        "outputId": "4a1b6afa-f791-47c9-b9a9-dde85628627f"
      },
      "execution_count": 6,
      "outputs": [
        {
          "output_type": "execute_result",
          "data": {
            "text/plain": [
              "array([[0., 0.],\n",
              "       [0., 1.],\n",
              "       [1., 0.],\n",
              "       [1., 1.]], dtype=float32)"
            ]
          },
          "metadata": {},
          "execution_count": 6
        }
      ]
    },
    {
      "cell_type": "code",
      "source": [
        "y"
      ],
      "metadata": {
        "colab": {
          "base_uri": "https://localhost:8080/"
        },
        "id": "gKD9iWKj4i79",
        "outputId": "55895932-e481-425a-f66c-fa14b3931350"
      },
      "execution_count": 7,
      "outputs": [
        {
          "output_type": "execute_result",
          "data": {
            "text/plain": [
              "array([0., 0., 0., 1.], dtype=float32)"
            ]
          },
          "metadata": {},
          "execution_count": 7
        }
      ]
    },
    {
      "cell_type": "code",
      "source": [
        "model = Sequential() # Sequential : 입력값을 읽어서 예측\n",
        "model.add(Dense(1, input_dim=2, activation=\"sigmoid\")) \n",
        "# Dense(x, input_dim = y) x : 출력 데이터 칸 수 y : 입력 데이터 칸 수"
      ],
      "metadata": {
        "id": "_7f94mnN4jgj"
      },
      "execution_count": 8,
      "outputs": []
    },
    {
      "cell_type": "code",
      "source": [
        "model.summary()"
      ],
      "metadata": {
        "colab": {
          "base_uri": "https://localhost:8080/"
        },
        "id": "u_zGbER35-cE",
        "outputId": "c3452394-da00-489d-85fd-e5518b75a86c"
      },
      "execution_count": 9,
      "outputs": [
        {
          "output_type": "stream",
          "name": "stdout",
          "text": [
            "Model: \"sequential\"\n",
            "_________________________________________________________________\n",
            " Layer (type)                Output Shape              Param #   \n",
            "=================================================================\n",
            " dense (Dense)               (None, 1)                 3         \n",
            "                                                                 \n",
            "=================================================================\n",
            "Total params: 3\n",
            "Trainable params: 3\n",
            "Non-trainable params: 0\n",
            "_________________________________________________________________\n"
          ]
        }
      ]
    },
    {
      "cell_type": "code",
      "source": [
        "model.compile(loss='binary_crossentropy', optimizer=Adam(learning_rate=0.1),metrics=['acc'])"
      ],
      "metadata": {
        "id": "pkSRnlot6DKB"
      },
      "execution_count": 12,
      "outputs": []
    },
    {
      "cell_type": "code",
      "source": [
        "model.fit(X,y, epochs=100)"
      ],
      "metadata": {
        "colab": {
          "base_uri": "https://localhost:8080/"
        },
        "id": "yx-7ex5y6omp",
        "outputId": "91bade0f-3859-4f90-87fe-1586ea460b52"
      },
      "execution_count": 13,
      "outputs": [
        {
          "output_type": "stream",
          "name": "stdout",
          "text": [
            "Epoch 1/100\n",
            "1/1 [==============================] - 1s 853ms/step - loss: 0.9092 - acc: 0.7500\n",
            "Epoch 2/100\n",
            "1/1 [==============================] - 0s 13ms/step - loss: 0.8744 - acc: 0.7500\n",
            "Epoch 3/100\n",
            "1/1 [==============================] - 0s 12ms/step - loss: 0.8404 - acc: 0.7500\n",
            "Epoch 4/100\n",
            "1/1 [==============================] - 0s 9ms/step - loss: 0.8074 - acc: 0.7500\n",
            "Epoch 5/100\n",
            "1/1 [==============================] - 0s 10ms/step - loss: 0.7753 - acc: 0.7500\n",
            "Epoch 6/100\n",
            "1/1 [==============================] - 0s 13ms/step - loss: 0.7441 - acc: 0.7500\n",
            "Epoch 7/100\n",
            "1/1 [==============================] - 0s 18ms/step - loss: 0.7138 - acc: 0.7500\n",
            "Epoch 8/100\n",
            "1/1 [==============================] - 0s 11ms/step - loss: 0.6845 - acc: 0.7500\n",
            "Epoch 9/100\n",
            "1/1 [==============================] - 0s 11ms/step - loss: 0.6563 - acc: 0.7500\n",
            "Epoch 10/100\n",
            "1/1 [==============================] - 0s 5ms/step - loss: 0.6290 - acc: 0.7500\n",
            "Epoch 11/100\n",
            "1/1 [==============================] - 0s 10ms/step - loss: 0.6029 - acc: 0.7500\n",
            "Epoch 12/100\n",
            "1/1 [==============================] - 0s 8ms/step - loss: 0.5778 - acc: 0.7500\n",
            "Epoch 13/100\n",
            "1/1 [==============================] - 0s 7ms/step - loss: 0.5537 - acc: 0.7500\n",
            "Epoch 14/100\n",
            "1/1 [==============================] - 0s 9ms/step - loss: 0.5308 - acc: 0.7500\n",
            "Epoch 15/100\n",
            "1/1 [==============================] - 0s 8ms/step - loss: 0.5089 - acc: 0.7500\n",
            "Epoch 16/100\n",
            "1/1 [==============================] - 0s 7ms/step - loss: 0.4880 - acc: 0.7500\n",
            "Epoch 17/100\n",
            "1/1 [==============================] - 0s 9ms/step - loss: 0.4681 - acc: 0.7500\n",
            "Epoch 18/100\n",
            "1/1 [==============================] - 0s 7ms/step - loss: 0.4493 - acc: 0.7500\n",
            "Epoch 19/100\n",
            "1/1 [==============================] - 0s 8ms/step - loss: 0.4314 - acc: 0.7500\n",
            "Epoch 20/100\n",
            "1/1 [==============================] - 0s 8ms/step - loss: 0.4144 - acc: 0.7500\n",
            "Epoch 21/100\n",
            "1/1 [==============================] - 0s 8ms/step - loss: 0.3984 - acc: 0.7500\n",
            "Epoch 22/100\n",
            "1/1 [==============================] - 0s 10ms/step - loss: 0.3831 - acc: 0.7500\n",
            "Epoch 23/100\n",
            "1/1 [==============================] - 0s 9ms/step - loss: 0.3687 - acc: 0.7500\n",
            "Epoch 24/100\n",
            "1/1 [==============================] - 0s 17ms/step - loss: 0.3551 - acc: 0.7500\n",
            "Epoch 25/100\n",
            "1/1 [==============================] - 0s 16ms/step - loss: 0.3422 - acc: 0.7500\n",
            "Epoch 26/100\n",
            "1/1 [==============================] - 0s 16ms/step - loss: 0.3300 - acc: 0.7500\n",
            "Epoch 27/100\n",
            "1/1 [==============================] - 0s 11ms/step - loss: 0.3185 - acc: 1.0000\n",
            "Epoch 28/100\n",
            "1/1 [==============================] - 0s 8ms/step - loss: 0.3075 - acc: 1.0000\n",
            "Epoch 29/100\n",
            "1/1 [==============================] - 0s 9ms/step - loss: 0.2972 - acc: 1.0000\n",
            "Epoch 30/100\n",
            "1/1 [==============================] - 0s 8ms/step - loss: 0.2874 - acc: 1.0000\n",
            "Epoch 31/100\n",
            "1/1 [==============================] - 0s 8ms/step - loss: 0.2781 - acc: 1.0000\n",
            "Epoch 32/100\n",
            "1/1 [==============================] - 0s 8ms/step - loss: 0.2693 - acc: 1.0000\n",
            "Epoch 33/100\n",
            "1/1 [==============================] - 0s 8ms/step - loss: 0.2609 - acc: 1.0000\n",
            "Epoch 34/100\n",
            "1/1 [==============================] - 0s 19ms/step - loss: 0.2529 - acc: 1.0000\n",
            "Epoch 35/100\n",
            "1/1 [==============================] - 0s 11ms/step - loss: 0.2454 - acc: 1.0000\n",
            "Epoch 36/100\n",
            "1/1 [==============================] - 0s 8ms/step - loss: 0.2382 - acc: 1.0000\n",
            "Epoch 37/100\n",
            "1/1 [==============================] - 0s 8ms/step - loss: 0.2314 - acc: 1.0000\n",
            "Epoch 38/100\n",
            "1/1 [==============================] - 0s 7ms/step - loss: 0.2249 - acc: 1.0000\n",
            "Epoch 39/100\n",
            "1/1 [==============================] - 0s 11ms/step - loss: 0.2187 - acc: 1.0000\n",
            "Epoch 40/100\n",
            "1/1 [==============================] - 0s 7ms/step - loss: 0.2127 - acc: 1.0000\n",
            "Epoch 41/100\n",
            "1/1 [==============================] - 0s 7ms/step - loss: 0.2071 - acc: 1.0000\n",
            "Epoch 42/100\n",
            "1/1 [==============================] - 0s 7ms/step - loss: 0.2017 - acc: 1.0000\n",
            "Epoch 43/100\n",
            "1/1 [==============================] - 0s 7ms/step - loss: 0.1965 - acc: 1.0000\n",
            "Epoch 44/100\n",
            "1/1 [==============================] - 0s 9ms/step - loss: 0.1916 - acc: 1.0000\n",
            "Epoch 45/100\n",
            "1/1 [==============================] - 0s 11ms/step - loss: 0.1869 - acc: 1.0000\n",
            "Epoch 46/100\n",
            "1/1 [==============================] - 0s 8ms/step - loss: 0.1824 - acc: 1.0000\n",
            "Epoch 47/100\n",
            "1/1 [==============================] - 0s 8ms/step - loss: 0.1781 - acc: 1.0000\n",
            "Epoch 48/100\n",
            "1/1 [==============================] - 0s 13ms/step - loss: 0.1739 - acc: 1.0000\n",
            "Epoch 49/100\n",
            "1/1 [==============================] - 0s 12ms/step - loss: 0.1699 - acc: 1.0000\n",
            "Epoch 50/100\n",
            "1/1 [==============================] - 0s 11ms/step - loss: 0.1661 - acc: 1.0000\n",
            "Epoch 51/100\n",
            "1/1 [==============================] - 0s 11ms/step - loss: 0.1624 - acc: 1.0000\n",
            "Epoch 52/100\n",
            "1/1 [==============================] - 0s 12ms/step - loss: 0.1589 - acc: 1.0000\n",
            "Epoch 53/100\n",
            "1/1 [==============================] - 0s 14ms/step - loss: 0.1555 - acc: 1.0000\n",
            "Epoch 54/100\n",
            "1/1 [==============================] - 0s 13ms/step - loss: 0.1522 - acc: 1.0000\n",
            "Epoch 55/100\n",
            "1/1 [==============================] - 0s 7ms/step - loss: 0.1490 - acc: 1.0000\n",
            "Epoch 56/100\n",
            "1/1 [==============================] - 0s 7ms/step - loss: 0.1460 - acc: 1.0000\n",
            "Epoch 57/100\n",
            "1/1 [==============================] - 0s 6ms/step - loss: 0.1430 - acc: 1.0000\n",
            "Epoch 58/100\n",
            "1/1 [==============================] - 0s 7ms/step - loss: 0.1402 - acc: 1.0000\n",
            "Epoch 59/100\n",
            "1/1 [==============================] - 0s 6ms/step - loss: 0.1375 - acc: 1.0000\n",
            "Epoch 60/100\n",
            "1/1 [==============================] - 0s 6ms/step - loss: 0.1348 - acc: 1.0000\n",
            "Epoch 61/100\n",
            "1/1 [==============================] - 0s 6ms/step - loss: 0.1323 - acc: 1.0000\n",
            "Epoch 62/100\n",
            "1/1 [==============================] - 0s 7ms/step - loss: 0.1298 - acc: 1.0000\n",
            "Epoch 63/100\n",
            "1/1 [==============================] - 0s 7ms/step - loss: 0.1274 - acc: 1.0000\n",
            "Epoch 64/100\n",
            "1/1 [==============================] - 0s 7ms/step - loss: 0.1251 - acc: 1.0000\n",
            "Epoch 65/100\n",
            "1/1 [==============================] - 0s 6ms/step - loss: 0.1228 - acc: 1.0000\n",
            "Epoch 66/100\n",
            "1/1 [==============================] - 0s 7ms/step - loss: 0.1206 - acc: 1.0000\n",
            "Epoch 67/100\n",
            "1/1 [==============================] - 0s 7ms/step - loss: 0.1185 - acc: 1.0000\n",
            "Epoch 68/100\n",
            "1/1 [==============================] - 0s 7ms/step - loss: 0.1165 - acc: 1.0000\n",
            "Epoch 69/100\n",
            "1/1 [==============================] - 0s 8ms/step - loss: 0.1145 - acc: 1.0000\n",
            "Epoch 70/100\n",
            "1/1 [==============================] - 0s 7ms/step - loss: 0.1126 - acc: 1.0000\n",
            "Epoch 71/100\n",
            "1/1 [==============================] - 0s 8ms/step - loss: 0.1107 - acc: 1.0000\n",
            "Epoch 72/100\n",
            "1/1 [==============================] - 0s 7ms/step - loss: 0.1089 - acc: 1.0000\n",
            "Epoch 73/100\n",
            "1/1 [==============================] - 0s 10ms/step - loss: 0.1071 - acc: 1.0000\n",
            "Epoch 74/100\n",
            "1/1 [==============================] - 0s 11ms/step - loss: 0.1054 - acc: 1.0000\n",
            "Epoch 75/100\n",
            "1/1 [==============================] - 0s 10ms/step - loss: 0.1037 - acc: 1.0000\n",
            "Epoch 76/100\n",
            "1/1 [==============================] - 0s 9ms/step - loss: 0.1020 - acc: 1.0000\n",
            "Epoch 77/100\n",
            "1/1 [==============================] - 0s 11ms/step - loss: 0.1005 - acc: 1.0000\n",
            "Epoch 78/100\n",
            "1/1 [==============================] - 0s 10ms/step - loss: 0.0989 - acc: 1.0000\n",
            "Epoch 79/100\n",
            "1/1 [==============================] - 0s 9ms/step - loss: 0.0974 - acc: 1.0000\n",
            "Epoch 80/100\n",
            "1/1 [==============================] - 0s 11ms/step - loss: 0.0959 - acc: 1.0000\n",
            "Epoch 81/100\n",
            "1/1 [==============================] - 0s 11ms/step - loss: 0.0945 - acc: 1.0000\n",
            "Epoch 82/100\n",
            "1/1 [==============================] - 0s 11ms/step - loss: 0.0931 - acc: 1.0000\n",
            "Epoch 83/100\n",
            "1/1 [==============================] - 0s 10ms/step - loss: 0.0917 - acc: 1.0000\n",
            "Epoch 84/100\n",
            "1/1 [==============================] - 0s 10ms/step - loss: 0.0904 - acc: 1.0000\n",
            "Epoch 85/100\n",
            "1/1 [==============================] - 0s 20ms/step - loss: 0.0891 - acc: 1.0000\n",
            "Epoch 86/100\n",
            "1/1 [==============================] - 0s 16ms/step - loss: 0.0878 - acc: 1.0000\n",
            "Epoch 87/100\n",
            "1/1 [==============================] - 0s 9ms/step - loss: 0.0866 - acc: 1.0000\n",
            "Epoch 88/100\n",
            "1/1 [==============================] - 0s 30ms/step - loss: 0.0854 - acc: 1.0000\n",
            "Epoch 89/100\n",
            "1/1 [==============================] - 0s 13ms/step - loss: 0.0842 - acc: 1.0000\n",
            "Epoch 90/100\n",
            "1/1 [==============================] - 0s 15ms/step - loss: 0.0831 - acc: 1.0000\n",
            "Epoch 91/100\n",
            "1/1 [==============================] - 0s 14ms/step - loss: 0.0819 - acc: 1.0000\n",
            "Epoch 92/100\n",
            "1/1 [==============================] - 0s 12ms/step - loss: 0.0808 - acc: 1.0000\n",
            "Epoch 93/100\n",
            "1/1 [==============================] - 0s 18ms/step - loss: 0.0798 - acc: 1.0000\n",
            "Epoch 94/100\n",
            "1/1 [==============================] - 0s 11ms/step - loss: 0.0787 - acc: 1.0000\n",
            "Epoch 95/100\n",
            "1/1 [==============================] - 0s 9ms/step - loss: 0.0777 - acc: 1.0000\n",
            "Epoch 96/100\n",
            "1/1 [==============================] - 0s 9ms/step - loss: 0.0767 - acc: 1.0000\n",
            "Epoch 97/100\n",
            "1/1 [==============================] - 0s 11ms/step - loss: 0.0757 - acc: 1.0000\n",
            "Epoch 98/100\n",
            "1/1 [==============================] - 0s 10ms/step - loss: 0.0747 - acc: 1.0000\n",
            "Epoch 99/100\n",
            "1/1 [==============================] - 0s 11ms/step - loss: 0.0738 - acc: 1.0000\n",
            "Epoch 100/100\n",
            "1/1 [==============================] - 0s 8ms/step - loss: 0.0728 - acc: 1.0000\n"
          ]
        },
        {
          "output_type": "execute_result",
          "data": {
            "text/plain": [
              "<keras.callbacks.History at 0x7f8d695f5150>"
            ]
          },
          "metadata": {},
          "execution_count": 13
        }
      ]
    },
    {
      "cell_type": "code",
      "source": [],
      "metadata": {
        "id": "ohZ_imHg7M3T"
      },
      "execution_count": null,
      "outputs": []
    }
  ]
}